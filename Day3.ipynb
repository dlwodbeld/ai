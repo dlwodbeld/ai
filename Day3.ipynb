{
  "nbformat": 4,
  "nbformat_minor": 0,
  "metadata": {
    "colab": {
      "name": "Day3.ipynb",
      "provenance": [],
      "authorship_tag": "ABX9TyM5C36/H8CgQkypd78xNH6Y",
      "include_colab_link": true
    },
    "kernelspec": {
      "name": "python3",
      "display_name": "Python 3"
    },
    "language_info": {
      "name": "python"
    }
  },
  "cells": [
    {
      "cell_type": "markdown",
      "metadata": {
        "id": "view-in-github",
        "colab_type": "text"
      },
      "source": [
        "<a href=\"https://colab.research.google.com/github/dlwodbeld/ai/blob/main/Day3.ipynb\" target=\"_parent\"><img src=\"https://colab.research.google.com/assets/colab-badge.svg\" alt=\"Open In Colab\"/></a>"
      ]
    },
    {
      "cell_type": "code",
      "execution_count": 6,
      "metadata": {
        "colab": {
          "base_uri": "https://localhost:8080/"
        },
        "id": "SQb38jwJ2J36",
        "outputId": "cef9b418-a33f-4d03-98c0-9a3e06e7313a"
      },
      "outputs": [
        {
          "output_type": "stream",
          "name": "stdout",
          "text": [
            "1\n",
            "['하나', '둘']\n",
            "[9, 2, 3, 4, 5]\n",
            "[9, 2, 3, 4, 5, 9, 2, 3, 4, 5, 9, 2, 3, 4, 5]\n",
            "[9, 2, 3, 4, 5, 8]\n"
          ]
        }
      ],
      "source": [
        "####################################################\n",
        "# Review\n",
        "####################################################\n",
        "\n",
        "# Collection : 많은 데이터(elements)를 저장하고 관리한다. \n",
        "\n",
        "# 리스트list        튜플 tuple        딕셔너리 dict         셋 set\n",
        "\n",
        "# []                ()                {}                    {}\n",
        "# mutable           immutable         mutable               mutable\n",
        "# indexing/slicing  indexing/slicing  Nope                  Nope\n",
        "#                   (1,)             {key:value}            중복데이터 미허용\n",
        "#                                    자바의 map, JS json    중복제거\n",
        "\n",
        "# List\n",
        "list1 = [1,2,3,4,5]\n",
        "list2 = [2,3,'하나','둘',True,False]\n",
        "\n",
        "print(list1[0])  # indexing\n",
        "print(list2[2:4])# slicing [시작:끝(미만)]\n",
        "\n",
        "list1[0] = 9\n",
        "print(list1)\n",
        "\n",
        "print(list1*3)\n",
        "\n",
        "list1.append(8) # append()는 마지막에 넣는다\n",
        "print(list1)\n",
        "\n",
        "list1.insert(0, 10) # 특정 위치를 지정하여 삽입"
      ]
    },
    {
      "cell_type": "code",
      "source": [
        "list3 = list1\n",
        "print(list1)\n",
        "print(list3)\n",
        "print(id(list1))\n",
        "print(id(list3))\n",
        "del list3[0]\n",
        "\n",
        "print(list1)\n",
        "print(list3)\n",
        "\n",
        "# list1  -------> [9, 2, 3, 4, 5, 8] <------- list3\n",
        "\n",
        "print()\n",
        "print()\n",
        "\n",
        "list4 = list1.copy()\n",
        "\n",
        "print(list1)\n",
        "print(list4)\n",
        "print(id(list1))\n",
        "print(id(list4))\n",
        "del list4[0]\n",
        "\n",
        "print(list1)\n",
        "print(list4)"
      ],
      "metadata": {
        "colab": {
          "base_uri": "https://localhost:8080/"
        },
        "id": "kcYdKREHOdtW",
        "outputId": "0b14544f-4ca6-4b7f-85a3-e04d1e46457e"
      },
      "execution_count": 7,
      "outputs": [
        {
          "output_type": "stream",
          "name": "stdout",
          "text": [
            "[10, 9, 2, 3, 4, 5, 8]\n",
            "[10, 9, 2, 3, 4, 5, 8]\n",
            "140119973456944\n",
            "140119973456944\n",
            "[9, 2, 3, 4, 5, 8]\n",
            "[9, 2, 3, 4, 5, 8]\n",
            "\n",
            "\n",
            "[9, 2, 3, 4, 5, 8]\n",
            "[9, 2, 3, 4, 5, 8]\n",
            "140119973456944\n",
            "140119972837328\n",
            "[9, 2, 3, 4, 5, 8]\n",
            "[2, 3, 4, 5, 8]\n"
          ]
        }
      ]
    },
    {
      "cell_type": "code",
      "source": [
        "t1 = ('대한','민국')\n",
        "print(type(t1))\n",
        "\n",
        "t2 = (1,)\n",
        "print(type(t2))"
      ],
      "metadata": {
        "colab": {
          "base_uri": "https://localhost:8080/"
        },
        "id": "1o1TOEGVOj98",
        "outputId": "102f0361-0668-4dad-c71e-b19dc6126dd3"
      },
      "execution_count": 8,
      "outputs": [
        {
          "output_type": "stream",
          "name": "stdout",
          "text": [
            "<class 'tuple'>\n",
            "<class 'tuple'>\n"
          ]
        }
      ]
    },
    {
      "cell_type": "code",
      "source": [
        "# t1[0] = '만세'\n",
        "t1[0]\n",
        "# t1.pop()"
      ],
      "metadata": {
        "colab": {
          "base_uri": "https://localhost:8080/",
          "height": 35
        },
        "id": "DL41OEKaOmgO",
        "outputId": "a80468d1-2b1f-45ba-887d-b998df148294"
      },
      "execution_count": 9,
      "outputs": [
        {
          "output_type": "execute_result",
          "data": {
            "application/vnd.google.colaboratory.intrinsic+json": {
              "type": "string"
            },
            "text/plain": [
              "'대한'"
            ]
          },
          "metadata": {},
          "execution_count": 9
        }
      ]
    },
    {
      "cell_type": "code",
      "source": [
        "# Dict \n",
        "\n",
        "dict = {\n",
        "    'key':'value'\n",
        "}\n",
        "\n",
        "print(dict)\n",
        "print(dict['key'])\n",
        "\n",
        "dict['newkey'] = 'ai'\n",
        "print(dict)\n",
        "\n",
        "del dict['key']\n",
        "print(dict)\n"
      ],
      "metadata": {
        "colab": {
          "base_uri": "https://localhost:8080/"
        },
        "id": "2mXdOBULOpFG",
        "outputId": "54a13218-9a15-4ec4-9d9d-6e00bd954206"
      },
      "execution_count": 10,
      "outputs": [
        {
          "output_type": "stream",
          "name": "stdout",
          "text": [
            "{'key': 'value'}\n",
            "value\n",
            "{'key': 'value', 'newkey': 'ai'}\n",
            "{'newkey': 'ai'}\n"
          ]
        }
      ]
    },
    {
      "cell_type": "code",
      "source": [
        "# Set\n",
        "\n",
        "set = {1,1,2,2,2,3}\n",
        "print(set)\n",
        "\n",
        "print(set[0])"
      ],
      "metadata": {
        "colab": {
          "base_uri": "https://localhost:8080/",
          "height": 226
        },
        "id": "Sg6WYMFXOtjy",
        "outputId": "5a5bb44e-eaac-48ea-b998-2f44d0586f01"
      },
      "execution_count": 3,
      "outputs": [
        {
          "output_type": "stream",
          "name": "stdout",
          "text": [
            "{1, 2, 3}\n"
          ]
        },
        {
          "output_type": "error",
          "ename": "TypeError",
          "evalue": "ignored",
          "traceback": [
            "\u001b[0;31m---------------------------------------------------------------------------\u001b[0m",
            "\u001b[0;31mTypeError\u001b[0m                                 Traceback (most recent call last)",
            "\u001b[0;32m<ipython-input-3-c9dff2e5597c>\u001b[0m in \u001b[0;36m<module>\u001b[0;34m()\u001b[0m\n\u001b[1;32m      4\u001b[0m \u001b[0mprint\u001b[0m\u001b[0;34m(\u001b[0m\u001b[0mset\u001b[0m\u001b[0;34m)\u001b[0m\u001b[0;34m\u001b[0m\u001b[0;34m\u001b[0m\u001b[0m\n\u001b[1;32m      5\u001b[0m \u001b[0;34m\u001b[0m\u001b[0m\n\u001b[0;32m----> 6\u001b[0;31m \u001b[0mprint\u001b[0m\u001b[0;34m(\u001b[0m\u001b[0mset\u001b[0m\u001b[0;34m[\u001b[0m\u001b[0;36m0\u001b[0m\u001b[0;34m]\u001b[0m\u001b[0;34m)\u001b[0m\u001b[0;34m\u001b[0m\u001b[0;34m\u001b[0m\u001b[0m\n\u001b[0m",
            "\u001b[0;31mTypeError\u001b[0m: 'set' object is not subscriptable"
          ]
        }
      ]
    },
    {
      "cell_type": "code",
      "source": [
        "#########################################\n",
        "# if 조건문\n",
        "#########################################\n",
        "\n",
        "# if 조건식(True or False):\n",
        "#   True일 경우 실행\n",
        "# else:\n",
        "#   False일 경우 실행\n",
        "\n",
        "if False:\n",
        "  print('True')\n",
        "else:\n",
        "  print('False')\n",
        "\n",
        "\n",
        "if False:\n",
        "  print('1st')\n",
        "elif False:\n",
        "  print('2nd')\n",
        "elif False:\n",
        "  print('3rd')\n",
        "else:\n",
        "  print('etc')  \n",
        "\n",
        "score  = 80\n",
        "if score >= 100:\n",
        "  print('상')\n",
        "else:\n",
        "  if score >= 50:\n",
        "    print('중')\n",
        "  else:\n",
        "    print('하')\n",
        "\n",
        "if score >= 100:\n",
        "  print('상')\n",
        "elif score >= 50:\n",
        "    print('중')\n",
        "else:\n",
        "    print('하')"
      ],
      "metadata": {
        "colab": {
          "base_uri": "https://localhost:8080/"
        },
        "id": "8tfJzzmOOv3i",
        "outputId": "81377c3f-28fd-4fdd-db50-73837f499fee"
      },
      "execution_count": 4,
      "outputs": [
        {
          "output_type": "stream",
          "name": "stdout",
          "text": [
            "False\n",
            "etc\n",
            "중\n",
            "중\n"
          ]
        }
      ]
    },
    {
      "cell_type": "code",
      "source": [
        "# 입력) 당신의 점수를 입력하세요 >>> 95\n",
        "  # 출력) 당신의 점수는 95 점이고 학점은 AO학점입니다.  \n",
        "  #                     --               --\n",
        "  # 조건)100 점 초과인 점수는 없다. 0점 미만인 점수도 절대 없음\n",
        "  # 100~ 90 A \n",
        "  #  89~ 80 B\n",
        "  #  79~ 70 C\n",
        "  #  69~ 60 D \n",
        "  #  나머지 F\n",
        "\n",
        "  # 0 ~ 3 -\n",
        "  # 4 ~ 6 O\n",
        "  # 7 ~ 9 +\n",
        "\n",
        "score = int(input(\"당신의 점수를 입력하세요\"))\n",
        "a = \"\"\n",
        "r= \"\"\n",
        "if 90 <= score <= 100 :\n",
        "  r = \"A\" \n",
        "elif 80 <= score <90 :\n",
        "  r = \"B\"\n",
        "elif 70 <= score <80 :\n",
        "  r=\"C\"\n",
        "elif 60 <= score <70 :\n",
        "  r=\"D\"\n",
        "elif 0 < score < 60:\n",
        "  r=\"F\"\n",
        "\n",
        "if 0 or 1 or 2 or 3 in str(score)[2]:\n",
        "  a = \"-\"\n",
        "elif 4 or 5 or 6 in str(score)[2]:\n",
        "  a=\"0\"\n",
        "else:\n",
        "  a=\"+\"    \n",
        "print(f\"당신의 점수는 {score}점 이고 학점은 {r}{a}학점입니다 \")\n"
      ],
      "metadata": {
        "colab": {
          "base_uri": "https://localhost:8080/"
        },
        "id": "rnSR99EjO1TN",
        "outputId": "49ad737d-abf4-447f-b971-1134cd35a0c8"
      },
      "execution_count": 5,
      "outputs": [
        {
          "output_type": "stream",
          "name": "stdout",
          "text": [
            "당신의 점수를 입력하세요60\n",
            "당신의 점수는 60점 이고 학점은 D-학점입니다 \n"
          ]
        }
      ]
    },
    {
      "cell_type": "code",
      "source": [
        "score = int(input(\"점수를 입력하세요 >>>\"))\n",
        "\n",
        "if score >= 90:\n",
        "  gr = \"A\"\n",
        "elif score >= 80:\n",
        "  gr = \"B\"\n",
        "elif score >= 70:\n",
        "  gr = \"C\"\n",
        "elif score >= 60:\n",
        "  gr = \"D\"\n",
        "else:\n",
        "  gr = \"F\"\n",
        "\n",
        "\n",
        "if int(score%10) >= 7:\n",
        "  de = '+'\n",
        "elif int(score%10) >= 4:\n",
        "  de = ''\n",
        "else:\n",
        "  de = '-'\n",
        "\n",
        "print(f'당신의 점수는 {score}이며 학점은 {gr}{de}입니다. ')"
      ],
      "metadata": {
        "colab": {
          "base_uri": "https://localhost:8080/"
        },
        "id": "3iSYfRgvO6mg",
        "outputId": "463012c1-8881-4c91-c428-52a01fe749ca"
      },
      "execution_count": 11,
      "outputs": [
        {
          "output_type": "stream",
          "name": "stdout",
          "text": [
            "점수를 입력하세요 >>>65\n",
            "당신의 점수는 65이며 학점은 D입니다. \n"
          ]
        }
      ]
    },
    {
      "cell_type": "code",
      "source": [
        "#while 구문\n",
        "n = 1\n",
        "while n <= 10:\n",
        "  print(n)\n",
        "  n = n + 1 #(Java == n++)\n",
        "\n",
        "print('------------------')\n",
        "print(n)"
      ],
      "metadata": {
        "colab": {
          "base_uri": "https://localhost:8080/"
        },
        "id": "vcG-rnilTbRf",
        "outputId": "2d8390e3-ee26-41f3-8ff0-5060d45dc0f8"
      },
      "execution_count": 13,
      "outputs": [
        {
          "output_type": "stream",
          "name": "stdout",
          "text": [
            "1\n",
            "2\n",
            "3\n",
            "4\n",
            "5\n",
            "6\n",
            "7\n",
            "8\n",
            "9\n",
            "10\n",
            "------------------\n",
            "11\n"
          ]
        }
      ]
    },
    {
      "cell_type": "code",
      "source": [
        "n = 10\n",
        "while n >2:\n",
        "  print(n)\n",
        "  n -= 2\n",
        "print(n)"
      ],
      "metadata": {
        "colab": {
          "base_uri": "https://localhost:8080/"
        },
        "id": "kI1BlGeOUVy5",
        "outputId": "10e7d078-e07a-49a0-a0c4-1848e7e33854"
      },
      "execution_count": 19,
      "outputs": [
        {
          "output_type": "stream",
          "name": "stdout",
          "text": [
            "10\n",
            "8\n",
            "6\n",
            "4\n",
            "2\n"
          ]
        }
      ]
    },
    {
      "cell_type": "code",
      "source": [
        "while n != 0:\n",
        "  n = int(input('정수를 입력하세요 : '))\n",
        "  print(n)"
      ],
      "metadata": {
        "colab": {
          "base_uri": "https://localhost:8080/"
        },
        "id": "bLwly742UqiB",
        "outputId": "58fcf77d-1aa8-45dc-a507-a7fdb6df2870"
      },
      "execution_count": 22,
      "outputs": [
        {
          "output_type": "stream",
          "name": "stdout",
          "text": [
            "정수를 입력하세요 : 1\n",
            "1\n",
            "정수를 입력하세요 : 3\n",
            "3\n",
            "정수를 입력하세요 : 0\n",
            "0\n"
          ]
        }
      ]
    },
    {
      "cell_type": "code",
      "source": [
        "arr = []\n",
        "no = 1\n",
        "\n",
        "while no != 0:\n",
        "  no = int(input('정수입력 >>>'))\n",
        "  if no != 0:\n",
        "    arr.append(no)\n",
        "print(arr)"
      ],
      "metadata": {
        "colab": {
          "base_uri": "https://localhost:8080/"
        },
        "id": "TzbhFtWzYDmZ",
        "outputId": "55df5f9f-2e17-4e97-fb09-f21d04f3800a"
      },
      "execution_count": 24,
      "outputs": [
        {
          "output_type": "stream",
          "name": "stdout",
          "text": [
            "정수입력 >>>1\n",
            "정수입력 >>>5\n",
            "정수입력 >>>0\n",
            "[1, 5]\n"
          ]
        }
      ]
    },
    {
      "cell_type": "code",
      "source": [
        "n = 1\n",
        "while n <= 3 :\n",
        "  m = 1\n",
        "  while m <= 3:\n",
        "    print(f'{n}일차 {m}교시입니다.')\n",
        "    m += 1\n",
        "  n += 1\n",
        "\n",
        "  "
      ],
      "metadata": {
        "colab": {
          "base_uri": "https://localhost:8080/"
        },
        "id": "Ko2IfAkoZ_ZQ",
        "outputId": "7cb032ba-3987-4ead-91c0-72a3831cb410"
      },
      "execution_count": 33,
      "outputs": [
        {
          "output_type": "stream",
          "name": "stdout",
          "text": [
            "1일차 1교시입니다.\n",
            "1일차 2교시입니다.\n",
            "1일차 3교시입니다.\n",
            "2일차 1교시입니다.\n",
            "2일차 2교시입니다.\n",
            "2일차 3교시입니다.\n",
            "3일차 1교시입니다.\n",
            "3일차 2교시입니다.\n",
            "3일차 3교시입니다.\n"
          ]
        }
      ]
    },
    {
      "cell_type": "code",
      "source": [
        "n = 2\n",
        "\n",
        "while n <= 9:\n",
        "  m = 1\n",
        "  while m <= 9 :\n",
        "    t = n*m\n",
        "    print(f'{n}X{m} = {t}')\n",
        "    m +=1\n",
        "  n+=1"
      ],
      "metadata": {
        "colab": {
          "base_uri": "https://localhost:8080/"
        },
        "id": "QxRvTOvzuPlr",
        "outputId": "d3c50138-87fe-45b0-d5b1-752bbf426bce"
      },
      "execution_count": 36,
      "outputs": [
        {
          "output_type": "stream",
          "name": "stdout",
          "text": [
            "2X1 = 2\n",
            "2X2 = 4\n",
            "2X3 = 6\n",
            "2X4 = 8\n",
            "2X5 = 10\n",
            "2X6 = 12\n",
            "2X7 = 14\n",
            "2X8 = 16\n",
            "2X9 = 18\n",
            "3X1 = 3\n",
            "3X2 = 6\n",
            "3X3 = 9\n",
            "3X4 = 12\n",
            "3X5 = 15\n",
            "3X6 = 18\n",
            "3X7 = 21\n",
            "3X8 = 24\n",
            "3X9 = 27\n",
            "4X1 = 4\n",
            "4X2 = 8\n",
            "4X3 = 12\n",
            "4X4 = 16\n",
            "4X5 = 20\n",
            "4X6 = 24\n",
            "4X7 = 28\n",
            "4X8 = 32\n",
            "4X9 = 36\n",
            "5X1 = 5\n",
            "5X2 = 10\n",
            "5X3 = 15\n",
            "5X4 = 20\n",
            "5X5 = 25\n",
            "5X6 = 30\n",
            "5X7 = 35\n",
            "5X8 = 40\n",
            "5X9 = 45\n",
            "6X1 = 6\n",
            "6X2 = 12\n",
            "6X3 = 18\n",
            "6X4 = 24\n",
            "6X5 = 30\n",
            "6X6 = 36\n",
            "6X7 = 42\n",
            "6X8 = 48\n",
            "6X9 = 54\n",
            "7X1 = 7\n",
            "7X2 = 14\n",
            "7X3 = 21\n",
            "7X4 = 28\n",
            "7X5 = 35\n",
            "7X6 = 42\n",
            "7X7 = 49\n",
            "7X8 = 56\n",
            "7X9 = 63\n",
            "8X1 = 8\n",
            "8X2 = 16\n",
            "8X3 = 24\n",
            "8X4 = 32\n",
            "8X5 = 40\n",
            "8X6 = 48\n",
            "8X7 = 56\n",
            "8X8 = 64\n",
            "8X9 = 72\n",
            "9X1 = 9\n",
            "9X2 = 18\n",
            "9X3 = 27\n",
            "9X4 = 36\n",
            "9X5 = 45\n",
            "9X6 = 54\n",
            "9X7 = 63\n",
            "9X8 = 72\n",
            "9X9 = 81\n"
          ]
        }
      ]
    },
    {
      "cell_type": "code",
      "source": [
        "n = int(input(' 정수를 입력하세요 . : '))\n",
        "m =1 \n",
        "if n > 0:\n",
        "  while n > 0 :\n",
        "    print(f'{n}번째 Hello')\n",
        "    m += 1\n",
        "    n -= 1\n",
        "else :\n",
        "   print('잘못된 입력입니다.')"
      ],
      "metadata": {
        "colab": {
          "base_uri": "https://localhost:8080/"
        },
        "id": "CcMM-pwswLRs",
        "outputId": "eb60c00c-f521-47bd-adee-ca164452aae7"
      },
      "execution_count": 47,
      "outputs": [
        {
          "output_type": "stream",
          "name": "stdout",
          "text": [
            " 정수를 입력하세요 . : 3\n",
            "3번째 Hello\n",
            "2번째 Hello\n",
            "1번째 Hello\n"
          ]
        }
      ]
    },
    {
      "cell_type": "code",
      "source": [
        "n = 7\n",
        "while n <= 100:\n",
        "  print(n)\n",
        "  n += 7"
      ],
      "metadata": {
        "colab": {
          "base_uri": "https://localhost:8080/"
        },
        "id": "W_xM8Rze19GX",
        "outputId": "c42e31fc-a78c-44fb-fe9c-a498d1577bab"
      },
      "execution_count": 49,
      "outputs": [
        {
          "output_type": "stream",
          "name": "stdout",
          "text": [
            "7\n",
            "14\n",
            "21\n",
            "28\n",
            "35\n",
            "42\n",
            "49\n",
            "56\n",
            "63\n",
            "70\n",
            "77\n",
            "84\n",
            "91\n",
            "98\n"
          ]
        }
      ]
    },
    {
      "cell_type": "code",
      "source": [
        "a=int(input('자판기에 얼마를 넣을까요>>>'))\n",
        "cof=300\n",
        "num=1\n",
        "while cof<=a:\n",
        "  print(f'커피 {num}잔, 잔돈 {a-cof}원')\n",
        "  num+=1\n",
        "  cof+=300\n"
      ],
      "metadata": {
        "colab": {
          "base_uri": "https://localhost:8080/"
        },
        "id": "S8uj7sik80cn",
        "outputId": "a8d16393-a080-4660-bb2c-9775344d0342"
      },
      "execution_count": 51,
      "outputs": [
        {
          "output_type": "stream",
          "name": "stdout",
          "text": [
            "자판기에 얼마를 넣을까요>>>1000\n",
            "커피 1잔, 잔돈 700원\n",
            "커피 2잔, 잔돈 400원\n",
            "커피 3잔, 잔돈 100원\n"
          ]
        }
      ]
    },
    {
      "cell_type": "code",
      "source": [
        "num = set([])\n",
        "while len(num) <= 4:\n",
        "  no = int(input('0~9사이 정수를 입력하세요 >>'))\n",
        "  num.add(no)\n",
        "  6\n",
        "  print(num)\n"
      ],
      "metadata": {
        "colab": {
          "base_uri": "https://localhost:8080/"
        },
        "id": "dsmt-FWb84oE",
        "outputId": "8c647397-a890-4818-d565-4965bf6ae993"
      },
      "execution_count": 7,
      "outputs": [
        {
          "output_type": "stream",
          "name": "stdout",
          "text": [
            "0~9사이 정수를 입력하세요 >>4\n",
            "{4}\n",
            "0~9사이 정수를 입력하세요 >>2\n",
            "{2, 4}\n",
            "0~9사이 정수를 입력하세요 >>1\n",
            "{1, 2, 4}\n",
            "0~9사이 정수를 입력하세요 >>2\n",
            "{1, 2, 4}\n",
            "0~9사이 정수를 입력하세요 >>4\n",
            "{1, 2, 4}\n",
            "0~9사이 정수를 입력하세요 >>4\n",
            "{1, 2, 4}\n",
            "0~9사이 정수를 입력하세요 >>4\n",
            "{1, 2, 4}\n",
            "0~9사이 정수를 입력하세요 >>4\n",
            "{1, 2, 4}\n",
            "0~9사이 정수를 입력하세요 >>4\n",
            "{1, 2, 4}\n",
            "0~9사이 정수를 입력하세요 >>2\n",
            "{1, 2, 4}\n",
            "0~9사이 정수를 입력하세요 >>3\n",
            "{1, 2, 3, 4}\n",
            "0~9사이 정수를 입력하세요 >>5\n",
            "{1, 2, 3, 4, 5}\n"
          ]
        }
      ]
    },
    {
      "cell_type": "code",
      "source": [
        "# 1~100사이의 모든 정수를 한줄에 10개씩 출력하세요.\n",
        "n = 1\n",
        "while n <= 100:\n",
        "  if n % 10 != 0:\n",
        "    print(n, end='\\t')\n",
        "  else:\n",
        "    print(n)\n",
        "  n += 1\n"
      ],
      "metadata": {
        "id": "O1sq0IF-DLhK"
      },
      "execution_count": null,
      "outputs": []
    },
    {
      "cell_type": "code",
      "source": [
        "n = 1\n",
        "while n <= 100:\n",
        "  t = 0\n",
        "  while t < 10:\n",
        "    print(n, end='\\t')\n",
        "    t += 1\n",
        "    n += 1\n",
        "  print(\"\")\n"
      ],
      "metadata": {
        "colab": {
          "base_uri": "https://localhost:8080/"
        },
        "id": "fBcAjgFNKULm",
        "outputId": "4420f91d-ae08-4502-9b24-e421e95989a3"
      },
      "execution_count": 13,
      "outputs": [
        {
          "output_type": "stream",
          "name": "stdout",
          "text": [
            "1\t2\t3\t4\t5\t6\t7\t8\t9\t10\t\n",
            "11\t12\t13\t14\t15\t16\t17\t18\t19\t20\t\n",
            "21\t22\t23\t24\t25\t26\t27\t28\t29\t30\t\n",
            "31\t32\t33\t34\t35\t36\t37\t38\t39\t40\t\n",
            "41\t42\t43\t44\t45\t46\t47\t48\t49\t50\t\n",
            "51\t52\t53\t54\t55\t56\t57\t58\t59\t60\t\n",
            "61\t62\t63\t64\t65\t66\t67\t68\t69\t70\t\n",
            "71\t72\t73\t74\t75\t76\t77\t78\t79\t80\t\n",
            "81\t82\t83\t84\t85\t86\t87\t88\t89\t90\t\n",
            "91\t92\t93\t94\t95\t96\t97\t98\t99\t100\t\n"
          ]
        }
      ]
    },
    {
      "cell_type": "code",
      "source": [
        "#########\n",
        "# for\n",
        "#########\n",
        "\n",
        "# 몇 번 반복 시킬지 그 횟수가 명확할 때 주로 사용한다. \n",
        "\n",
        "# for 변수 in 반복시킬값들:\n",
        "#   반복실행문\n",
        "\n",
        "# 리스트\n",
        "# for i in [1,2,3]:\n",
        "#   print(i)\n",
        "\n",
        "# 문자열\n",
        "# for i in 'hello':\n",
        "#   print(i)\n",
        "\n",
        "# 튜플\n",
        "# for i in (1,2,3):\n",
        "#   print(i)  \n",
        "\n",
        "# range()\n",
        "for i in range(1,4,2):  #range(시작(생략가능), 끝(미만), 스탭(생략가능))\n",
        "  print(i)\n",
        "\n",
        "# set, dict 는 순서와 상관 없이는 사용 가능"
      ],
      "metadata": {
        "colab": {
          "base_uri": "https://localhost:8080/"
        },
        "id": "8Zrwta88M_vn",
        "outputId": "c7798114-47f7-48ed-d71b-a2eb48abf0c8"
      },
      "execution_count": 14,
      "outputs": [
        {
          "output_type": "stream",
          "name": "stdout",
          "text": [
            "1\n",
            "2\n",
            "3\n"
          ]
        }
      ]
    },
    {
      "cell_type": "code",
      "source": [
        "pw = input('비밀번호를 입력하세요>>>>')\n",
        "ch_count = 0\n",
        "no_count = 0\n",
        "for ch in pw:\n",
        "  if ch.isalpha():\n",
        "    ch_count += 1\n",
        "  elif ch.isnumeric():\n",
        "    no_count += 1\n",
        "\n",
        "if ch_count > 0 and no_count> 0:\n",
        "  print('사용 가능한 비밀번호입니다.')\n",
        "else :\n",
        "  print('사용 불가능한 비밀번호입니다.')\n"
      ],
      "metadata": {
        "colab": {
          "base_uri": "https://localhost:8080/"
        },
        "id": "MG1bFheENDFc",
        "outputId": "8e3b54a4-1361-43bd-f1b5-66cec5a5e3e8"
      },
      "execution_count": 18,
      "outputs": [
        {
          "output_type": "stream",
          "name": "stdout",
          "text": [
            "비밀번호를 입력하세요>>>>\n",
            "사용 불가능한 비밀번호입니다.\n"
          ]
        }
      ]
    },
    {
      "cell_type": "code",
      "source": [
        "dan = int(input('출력할 구구단을 입력하세요 >>>'))\n",
        "\n",
        "for i in range(1,10,1):\n",
        "  print(f'{dan} x {i} = {dan*i}')"
      ],
      "metadata": {
        "colab": {
          "base_uri": "https://localhost:8080/"
        },
        "id": "wsgCEVUYSl0S",
        "outputId": "1d413133-66d0-4e83-b8e0-1dffbefe6a98"
      },
      "execution_count": 19,
      "outputs": [
        {
          "output_type": "stream",
          "name": "stdout",
          "text": [
            "출력할 구구단을 입력하세요 >>>5\n",
            "5 x 1 = 5\n",
            "5 x 2 = 10\n",
            "5 x 3 = 15\n",
            "5 x 4 = 20\n",
            "5 x 5 = 25\n",
            "5 x 6 = 30\n",
            "5 x 7 = 35\n",
            "5 x 8 = 40\n",
            "5 x 9 = 45\n"
          ]
        }
      ]
    },
    {
      "cell_type": "code",
      "source": [
        "# set, dict 도 for문으로 사용은 가능하나 순서는 보장하지 않는다. \n",
        "\n",
        "for i in {'가위','바위','보'}:\n",
        "  print(i)"
      ],
      "metadata": {
        "colab": {
          "base_uri": "https://localhost:8080/"
        },
        "id": "dQmE07IHYnUY",
        "outputId": "beb4c7f1-7a1f-4bd8-8d2e-9a9f14c29327"
      },
      "execution_count": 22,
      "outputs": [
        {
          "output_type": "stream",
          "name": "stdout",
          "text": [
            "보\n",
            "가위\n",
            "바위\n"
          ]
        }
      ]
    },
    {
      "cell_type": "code",
      "source": [
        "person = {\n",
        "    'name' : '에밀리',\n",
        "    'age' : '20'\n",
        "}\n",
        "\n",
        "for i in person:\n",
        "  print(i)\n",
        "\n",
        "for i in person:\n",
        "  print(person[i])"
      ],
      "metadata": {
        "colab": {
          "base_uri": "https://localhost:8080/"
        },
        "id": "wBCbRGE2Yquk",
        "outputId": "a80614b7-6352-46d6-8afb-7783d14e0961"
      },
      "execution_count": 23,
      "outputs": [
        {
          "output_type": "stream",
          "name": "stdout",
          "text": [
            "name\n",
            "age\n",
            "에밀리\n",
            "20\n"
          ]
        }
      ]
    },
    {
      "cell_type": "code",
      "source": [
        "#사용자로부터 양의 정수를 하나 입력받아서 1부터 입력받은 정수까지의 모든 정수의 합계를 구하는 프로그램을 작성하세요.\n",
        "#(입력) 임의의 양수를 입력하세요 >>>5\n",
        "#(출력) 1부터 5사이의 모든 정수의 합계는 15입니다.\n",
        "\n",
        "num = int(input('임의의 양수를 입력하세요 : '))\n",
        "\n",
        "sum = 0\n",
        "\n",
        "for i in range(1,num+1):\n",
        "  sum = sum + i\n",
        "print(f'1부터 {num}사이의 모든 정수의 합은 {sum}입니다.')"
      ],
      "metadata": {
        "colab": {
          "base_uri": "https://localhost:8080/"
        },
        "id": "hKWzOLrGY7Yh",
        "outputId": "608bc8ce-8a64-42cb-f825-3ccfd8273e03"
      },
      "execution_count": 31,
      "outputs": [
        {
          "output_type": "stream",
          "name": "stdout",
          "text": [
            "임의의 양수를 입력하세요 : 6\n",
            "1부터 6사이의 모든 정수의 합은 21입니다.\n"
          ]
        }
      ]
    },
    {
      "cell_type": "code",
      "source": [
        "n = int(input('몇개의 과일을 보관할까요? : '))\n",
        "basket = []\n",
        "\n",
        "for i in range(1,n+1):\n",
        "  m = str(input(f'{n}번째 과일을 입력하세요. : '))\n",
        "  basket.append(m)\n",
        "\n",
        "print(f'입력받은 과일들은 {basket}입니다.')"
      ],
      "metadata": {
        "colab": {
          "base_uri": "https://localhost:8080/"
        },
        "id": "BVZ2FnA5bP6M",
        "outputId": "068f1b8b-4193-43a8-cacf-47a63c1de4b8"
      },
      "execution_count": 33,
      "outputs": [
        {
          "output_type": "stream",
          "name": "stdout",
          "text": [
            "몇개의 과일을 보관할까요? : 3\n",
            "3번째 과일을 입력하세요. : 사과\n",
            "3번째 과일을 입력하세요. : 바나나\n",
            "3번째 과일을 입력하세요. : 매론\n",
            "입력받은 과일들은 ['사과', '바나나', '매론']입니다.\n"
          ]
        }
      ]
    },
    {
      "cell_type": "code",
      "source": [
        "#1부터 99사이의 모든 정수를 대상으로 369게임의 결과를 출력하는 프로그램을 작성하세요.\n",
        "\n",
        "n = int(input())\n",
        "\n",
        "for i in range(1,n+1):\n",
        "  s = str(i)\n",
        "count = 0\n",
        "\n",
        "for x in s:\n",
        "  if (x =='3') or (x=='6') or (x=='9'):\n",
        "    count += 1\n",
        "  if count == 0:\n",
        "    print(i,end=' ')\n",
        "  else :\n",
        "    print(count*'짝',end='')\n",
        "  t = 0\n",
        "  while t < 10:\n",
        "    print(n, end='\\t')\n",
        "    t += 1\n",
        "    n += 1\n",
        "  print(\"\")"
      ],
      "metadata": {
        "colab": {
          "base_uri": "https://localhost:8080/"
        },
        "id": "YjPWM6y8c0cS",
        "outputId": "1ec905f2-0928-4995-badb-32681de1ef69"
      },
      "execution_count": 52,
      "outputs": [
        {
          "output_type": "stream",
          "name": "stdout",
          "text": [
            "60\n",
            "짝60\t61\t62\t63\t64\t65\t66\t67\t68\t69\t\n",
            "짝70\t71\t72\t73\t74\t75\t76\t77\t78\t79\t\n"
          ]
        }
      ]
    },
    {
      "cell_type": "code",
      "source": [
        "def check369(c):\n",
        "\n",
        "    num=str(c)\n",
        "\n",
        "    data=list(num)\n",
        "\n",
        "    for data in num:\n",
        "\n",
        "        if \"3\" in data or \"6\" in data or \"9\" in data:\n",
        "\n",
        "            return True\n",
        "\n",
        "    return False\n",
        "\n",
        "\n",
        "\n",
        "for i in range(1,101):\n",
        "\n",
        "    if check369(i) == True:\n",
        "\n",
        "        print(str(\"*\").rjust(3),end=\" \")\n",
        "\n",
        "    else :\n",
        "\n",
        "        print(str(i).rjust(3),end=\" \")\n",
        "\n",
        "    if i%10==0:\n",
        "\n",
        "        print()"
      ],
      "metadata": {
        "colab": {
          "base_uri": "https://localhost:8080/"
        },
        "id": "tTDHDPm6gKjW",
        "outputId": "99181d02-fe13-4538-d7d4-ef0515c7119c"
      },
      "execution_count": 51,
      "outputs": [
        {
          "output_type": "stream",
          "name": "stdout",
          "text": [
            "  1   2   *   4   5   *   7   8   *  10 \n",
            " 11  12   *  14  15   *  17  18   *  20 \n",
            " 21  22   *  24  25   *  27  28   *   * \n",
            "  *   *   *   *   *   *   *   *   *  40 \n",
            " 41  42   *  44  45   *  47  48   *  50 \n",
            " 51  52   *  54  55   *  57  58   *   * \n",
            "  *   *   *   *   *   *   *   *   *  70 \n",
            " 71  72   *  74  75   *  77  78   *  80 \n",
            " 81  82   *  84  85   *  87  88   *   * \n",
            "  *   *   *   *   *   *   *   *   * 100 \n"
          ]
        }
      ]
    }
  ]
}