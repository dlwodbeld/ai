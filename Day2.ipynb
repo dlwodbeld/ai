{
  "nbformat": 4,
  "nbformat_minor": 0,
  "metadata": {
    "colab": {
      "name": "Day2.ipynb",
      "provenance": [],
      "authorship_tag": "ABX9TyNtLTlLpL/BXUm2C50Ns794",
      "include_colab_link": true
    },
    "kernelspec": {
      "name": "python3",
      "display_name": "Python 3"
    },
    "language_info": {
      "name": "python"
    }
  },
  "cells": [
    {
      "cell_type": "markdown",
      "metadata": {
        "id": "view-in-github",
        "colab_type": "text"
      },
      "source": [
        "<a href=\"https://colab.research.google.com/github/dlwodbeld/ai/blob/main/Day2.ipynb\" target=\"_parent\"><img src=\"https://colab.research.google.com/assets/colab-badge.svg\" alt=\"Open In Colab\"/></a>"
      ]
    },
    {
      "cell_type": "code",
      "execution_count": 1,
      "metadata": {
        "colab": {
          "base_uri": "https://localhost:8080/"
        },
        "id": "llwHLpkvt8Zy",
        "outputId": "ceaf4705-bcfa-4e5b-f4c4-7f4a2d5e07be"
      },
      "outputs": [
        {
          "output_type": "stream",
          "name": "stdout",
          "text": [
            "r\n",
            "d\n",
            "d\n"
          ]
        }
      ],
      "source": [
        "s = 'world'\n",
        "print(s[2]) #파이선은 인덱스 시작이 0이다.\n",
        "print(s[-1]) #-1은 마지막 인덱스를 가리킨다.\n",
        "print(s[4])"
      ]
    },
    {
      "cell_type": "code",
      "source": [
        "list = [1,2,3,4,5]\n",
        "print(list)\n",
        "print(list[1])\n",
        "print(list[1:3])\n",
        "list[3] = 30\n",
        "print(list)"
      ],
      "metadata": {
        "colab": {
          "base_uri": "https://localhost:8080/"
        },
        "id": "jNqSgsKF-M9q",
        "outputId": "37f7432e-4457-403a-9a42-e50e1a9ce0f9"
      },
      "execution_count": 2,
      "outputs": [
        {
          "output_type": "stream",
          "name": "stdout",
          "text": [
            "[1, 2, 3, 4, 5]\n",
            "2\n",
            "[2, 3]\n",
            "[1, 2, 3, 30, 5]\n"
          ]
        }
      ]
    },
    {
      "cell_type": "code",
      "source": [
        "list1 = [1,2,3,4,5,6,7,8,9]\n",
        "list2 = [10,20,30]\n",
        "list_a = list1\n",
        "list_b = list2\n",
        "print(list_a,list_b)\n",
        "print(list_a+list_b)\n",
        "#연산\n",
        "print(list_a*2)\n",
        "print(list_a[2]*list_b[1])\n",
        "#.insert()/.extend()\n",
        "list1.insert(0,90)\n",
        "list1.extend([8,9])\n",
        "print(list1)\n",
        "#del()\n",
        "del list1[2] #list1에서 3번째꺼 제거\n",
        "print(list1)\n",
        "del list1[4:6]#4번부터 6번 미만까지\n",
        "print(list1)\n",
        "del list2[:]#생략하면 처음 : 생략하면 끝\n",
        "#.pop()\n",
        "list1.pop()\n",
        "print(list1)\n",
        "#.remove() 값으로 삭제\n",
        "list1.remove(8)\n",
        "print(list1)\n",
        "list1.remove(8)\n",
        "print(list1)\n",
        "#.clear() 리스트 요소를 전부 한번에 삭제\n",
        "list1.clear()\n",
        "list1.extend([1000])\n",
        "print(list1)\n",
        "#in / not in  리스트에 존재하는 요소인지를 확인\n",
        "print(1000 in list1)\n",
        "print(300 in list1)\n",
        "print(300 not in list1)\n",
        "print(1000 not in list1)"
      ],
      "metadata": {
        "colab": {
          "base_uri": "https://localhost:8080/"
        },
        "id": "yRyVwTalEVM2",
        "outputId": "03784958-4c33-4c6e-ee5c-3920998659ee"
      },
      "execution_count": 3,
      "outputs": [
        {
          "output_type": "stream",
          "name": "stdout",
          "text": [
            "[1, 2, 3, 4, 5, 6, 7, 8, 9] [10, 20, 30]\n",
            "[1, 2, 3, 4, 5, 6, 7, 8, 9, 10, 20, 30]\n",
            "[1, 2, 3, 4, 5, 6, 7, 8, 9, 1, 2, 3, 4, 5, 6, 7, 8, 9]\n",
            "60\n",
            "[90, 1, 2, 3, 4, 5, 6, 7, 8, 9, 8, 9]\n",
            "[90, 1, 3, 4, 5, 6, 7, 8, 9, 8, 9]\n",
            "[90, 1, 3, 4, 7, 8, 9, 8, 9]\n",
            "[90, 1, 3, 4, 7, 8, 9, 8]\n",
            "[90, 1, 3, 4, 7, 9, 8]\n",
            "[90, 1, 3, 4, 7, 9]\n",
            "[1000]\n",
            "True\n",
            "False\n",
            "True\n",
            "False\n"
          ]
        }
      ]
    },
    {
      "cell_type": "code",
      "source": [
        "dict = {\n",
        "    \"name\" : \"엔드 게임\",\n",
        "    \"no\" : 1,\n",
        "    \"tpye\" : \"히어로 무비\",\n",
        "    \"price\" : 10000\n",
        "}\n",
        "print(dict)\n",
        "print(dict['name'])"
      ],
      "metadata": {
        "colab": {
          "base_uri": "https://localhost:8080/"
        },
        "id": "79Pm8dcpifPD",
        "outputId": "3c59257f-d9a3-4612-90a4-f18f84b844c6"
      },
      "execution_count": 4,
      "outputs": [
        {
          "output_type": "stream",
          "name": "stdout",
          "text": [
            "{'name': '엔드 게임', 'no': 1, 'tpye': '히어로 무비', 'price': 10000}\n",
            "엔드 게임\n"
          ]
        }
      ]
    },
    {
      "cell_type": "code",
      "source": [
        "dict ={\n",
        "    \"감독\" :[\"안소니\",\"루소\"],\n",
        "    \"배우\":[\"타노스\",\"토르\",\"토니 스타크\"]\n",
        "}\n",
        "print(dict[\"감독\"])"
      ],
      "metadata": {
        "colab": {
          "base_uri": "https://localhost:8080/"
        },
        "id": "hMQLJKVylGg8",
        "outputId": "531f6dd2-aa8b-4f0c-a1e5-16199954f1f5"
      },
      "execution_count": 5,
      "outputs": [
        {
          "output_type": "stream",
          "name": "stdout",
          "text": [
            "['안소니', '루소']\n"
          ]
        }
      ]
    },
    {
      "cell_type": "code",
      "source": [
        "dict = {\n",
        "    'name' : '건조 망고',\n",
        "    'type' : '절임 과일',\n",
        "    'ingredient' : ['망고','설탕','색소'],\n",
        "    'origin':'필리핀'\n",
        "}\n",
        "print('name: ',dict['name'])\n",
        "print('type: ',dict['type'])\n",
        "print('ingredient: ',dict['ingredient'])\n",
        "print('origin: ',dict['origin'])\n",
        "#변경\n",
        "dict['name'] = '망고'\n",
        "print('name:' , dict['name'])\n",
        "\n",
        "print(dict['ingredient'][0])\n",
        "#추가\n",
        "dict['price'] = 5000\n",
        "print(dict)\n",
        "#수정(있는경우에만)\n",
        "dict['price'] = 4000\n",
        "print(dict)\n",
        "#삭제\n",
        "del dict['price']\n",
        "print(dict)"
      ],
      "metadata": {
        "colab": {
          "base_uri": "https://localhost:8080/"
        },
        "id": "EB0H8bryl_ZN",
        "outputId": "689d4f1a-b60f-4bd2-9a03-b654caa8bd2c"
      },
      "execution_count": 6,
      "outputs": [
        {
          "output_type": "stream",
          "name": "stdout",
          "text": [
            "name:  건조 망고\n",
            "type:  절임 과일\n",
            "ingredient:  ['망고', '설탕', '색소']\n",
            "origin:  필리핀\n",
            "name: 망고\n",
            "망고\n",
            "{'name': '망고', 'type': '절임 과일', 'ingredient': ['망고', '설탕', '색소'], 'origin': '필리핀', 'price': 5000}\n",
            "{'name': '망고', 'type': '절임 과일', 'ingredient': ['망고', '설탕', '색소'], 'origin': '필리핀', 'price': 4000}\n",
            "{'name': '망고', 'type': '절임 과일', 'ingredient': ['망고', '설탕', '색소'], 'origin': '필리핀'}\n"
          ]
        }
      ]
    },
    {
      "cell_type": "code",
      "source": [
        "dict = {}\n",
        "\n",
        "dict['name'] = '새이름'\n",
        "dict['height'] = 185\n",
        "dict['weight'] = 75\n",
        "\n",
        "print(dict)\n",
        "#삭제\n",
        "del dict['weight']\n",
        "print(dict)\n"
      ],
      "metadata": {
        "colab": {
          "base_uri": "https://localhost:8080/"
        },
        "id": "ZJWkkzilogU6",
        "outputId": "e58d3127-acaf-4be0-ff75-08e5d3929149"
      },
      "execution_count": 7,
      "outputs": [
        {
          "output_type": "stream",
          "name": "stdout",
          "text": [
            "{'name': '새이름', 'height': 185, 'weight': 75}\n",
            "{'name': '새이름', 'height': 185}\n"
          ]
        }
      ]
    },
    {
      "cell_type": "code",
      "source": [
        "#dict 자주 등장하는 에러(예외)\n",
        "\n",
        "dict = {\n",
        "    'name' : '건조 망고',\n",
        "    'type' : '절임 과일',\n",
        "    'ingredient' : ['망고','설탕','색소'],\n",
        "    'origin':'필리핀'\n",
        "}\n",
        "\n",
        "#del dict['nane'] #존재하지 않는 키값을 제거하려고하니 에러가 뜬다."
      ],
      "metadata": {
        "id": "WwDGPLW_prcn"
      },
      "execution_count": 8,
      "outputs": []
    },
    {
      "cell_type": "code",
      "source": [
        "dict = {\n",
        "    'name' : '건조 망고',\n",
        "    'type' : '절임 과일',\n",
        "    'ingredient' : ['망고','설탕','색소'],\n",
        "    'origin':'필리핀'\n",
        "}\n",
        "\n",
        "key = input('>삭제를 원하는 데이터의 키값을 입렵하세요 : ')\n",
        "\n",
        "if key in dict:\n",
        "  print(dict)\n",
        "  print(dict[key],\"삭제\")\n",
        "  del dict[key]\n",
        "  print(dict)\n",
        "else:\n",
        "  print('존재하지 않는 키에 접근하고 있습니다.')\n",
        "print(dict)"
      ],
      "metadata": {
        "colab": {
          "base_uri": "https://localhost:8080/"
        },
        "id": "xogEs1eoqIh9",
        "outputId": "8a435623-86c3-4a05-e1a6-6d706a5eadf6"
      },
      "execution_count": 9,
      "outputs": [
        {
          "output_type": "stream",
          "name": "stdout",
          "text": [
            ">삭제를 원하는 데이터의 키값을 입렵하세요 : name\n",
            "{'name': '건조 망고', 'type': '절임 과일', 'ingredient': ['망고', '설탕', '색소'], 'origin': '필리핀'}\n",
            "건조 망고 삭제\n",
            "{'type': '절임 과일', 'ingredient': ['망고', '설탕', '색소'], 'origin': '필리핀'}\n",
            "{'type': '절임 과일', 'ingredient': ['망고', '설탕', '색소'], 'origin': '필리핀'}\n"
          ]
        }
      ]
    },
    {
      "cell_type": "code",
      "source": [
        "#튜플 (1,)인 이유/()생략 가능\n",
        "t = (1,2)\n",
        "print(t)\n",
        "print(type(t))\n",
        "t2 = 3,4\n",
        "print(t2)\n",
        "print(type(t2))\n",
        "\n",
        "t3 = (5) # (5) == 5 가 되므로 정수로 인식하여 int로 된다.\n",
        "t4 = 5\n",
        "t6 = (6,)\n",
        "t7 = 7,\n",
        "print(t3)\n",
        "print(type(t3))\n",
        "print(t4)\n",
        "print(type(t4))\n",
        "print(t6)\n",
        "print(type(t6))\n",
        "print(t7)\n",
        "print(type(t7))"
      ],
      "metadata": {
        "colab": {
          "base_uri": "https://localhost:8080/"
        },
        "id": "BpEEVDMLwnJ-",
        "outputId": "170ed74d-f420-4a4a-d7f0-10127304c0c6"
      },
      "execution_count": 10,
      "outputs": [
        {
          "output_type": "stream",
          "name": "stdout",
          "text": [
            "(1, 2)\n",
            "<class 'tuple'>\n",
            "(3, 4)\n",
            "<class 'tuple'>\n",
            "5\n",
            "<class 'int'>\n",
            "5\n",
            "<class 'int'>\n",
            "(6,)\n",
            "<class 'tuple'>\n",
            "(7,)\n",
            "<class 'tuple'>\n"
          ]
        }
      ]
    },
    {
      "cell_type": "code",
      "source": [
        "# 파괴적  동작은 불가능\n",
        "t = (1,2,3,4,5)\n",
        "print(t)\n",
        "print(type(t))\n",
        "#t[0] = 8 튜플은 수정 불가\n",
        "#del t[0] 튜플은 삭제불가\n"
      ],
      "metadata": {
        "colab": {
          "base_uri": "https://localhost:8080/"
        },
        "id": "o7AVPORJy4YD",
        "outputId": "815bdbfe-9e5f-407e-e8f8-f21a468a30c3"
      },
      "execution_count": 11,
      "outputs": [
        {
          "output_type": "stream",
          "name": "stdout",
          "text": [
            "(1, 2, 3, 4, 5)\n",
            "<class 'tuple'>\n"
          ]
        }
      ]
    },
    {
      "cell_type": "code",
      "source": [
        "# 비파괴적 동작은 가능\n",
        "t = (1,2,3,4,5)\n",
        "print(t[1])\n",
        "print(t[3:])"
      ],
      "metadata": {
        "colab": {
          "base_uri": "https://localhost:8080/"
        },
        "id": "s_g3z2vZzOV6",
        "outputId": "d02f25d3-5b47-429b-a7ab-7a4e9ee34365"
      },
      "execution_count": 12,
      "outputs": [
        {
          "output_type": "stream",
          "name": "stdout",
          "text": [
            "2\n",
            "(4, 5)\n"
          ]
        }
      ]
    },
    {
      "cell_type": "code",
      "source": [
        "#비파괴적 연산은 가능하다.\n",
        "t1 = (1,2,3,4,5)\n",
        "t2 = (6,7,8,9)\n",
        "print(t1)\n",
        "print(t2)\n",
        "print(t1+t2)\n",
        "\n",
        "print(type(t1),type(t2))\n",
        "print(t1*3)\n",
        "print(t1)"
      ],
      "metadata": {
        "colab": {
          "base_uri": "https://localhost:8080/"
        },
        "id": "g4GOJr9pzv4G",
        "outputId": "54023ad6-d209-4294-ad7f-2e9737015ace"
      },
      "execution_count": 13,
      "outputs": [
        {
          "output_type": "stream",
          "name": "stdout",
          "text": [
            "(1, 2, 3, 4, 5)\n",
            "(6, 7, 8, 9)\n",
            "(1, 2, 3, 4, 5, 6, 7, 8, 9)\n",
            "<class 'tuple'> <class 'tuple'>\n",
            "(1, 2, 3, 4, 5, 1, 2, 3, 4, 5, 1, 2, 3, 4, 5)\n",
            "(1, 2, 3, 4, 5)\n"
          ]
        }
      ]
    },
    {
      "cell_type": "code",
      "source": [
        "#Set 집합\n",
        "set = {1,1,2,2,3,4}\n",
        "print(set) #중복을 허용하지 않는다.\n",
        "print(type(set))\n",
        "#s1 = list(set)\n",
        "#print(s1[0])\n",
        "#print(type(s1))"
      ],
      "metadata": {
        "colab": {
          "base_uri": "https://localhost:8080/"
        },
        "id": "3BshyhIq1lCl",
        "outputId": "00112b6f-0daf-4ad3-859c-5d52f6541270"
      },
      "execution_count": 14,
      "outputs": [
        {
          "output_type": "stream",
          "name": "stdout",
          "text": [
            "{1, 2, 3, 4}\n",
            "<class 'set'>\n"
          ]
        }
      ]
    },
    {
      "cell_type": "code",
      "source": [
        "s1 = set([1,1,1,2,2,3])\n",
        "print(type(s1))\n",
        "print(s1)\n",
        "\n",
        "li = list(s1)\n",
        "print(type(li))\n",
        "print(li)\n",
        "li[0]"
      ],
      "metadata": {
        "colab": {
          "base_uri": "https://localhost:8080/",
          "height": 245
        },
        "id": "h5InqVzh3LYp",
        "outputId": "838fe46c-9101-4af3-c62f-16248b5feb53"
      },
      "execution_count": 15,
      "outputs": [
        {
          "output_type": "error",
          "ename": "TypeError",
          "evalue": "ignored",
          "traceback": [
            "\u001b[0;31m---------------------------------------------------------------------------\u001b[0m",
            "\u001b[0;31mTypeError\u001b[0m                                 Traceback (most recent call last)",
            "\u001b[0;32m<ipython-input-15-61adc17ff877>\u001b[0m in \u001b[0;36m<module>\u001b[0;34m()\u001b[0m\n\u001b[0;32m----> 1\u001b[0;31m \u001b[0ms1\u001b[0m \u001b[0;34m=\u001b[0m \u001b[0mset\u001b[0m\u001b[0;34m(\u001b[0m\u001b[0;34m[\u001b[0m\u001b[0;36m1\u001b[0m\u001b[0;34m,\u001b[0m\u001b[0;36m1\u001b[0m\u001b[0;34m,\u001b[0m\u001b[0;36m1\u001b[0m\u001b[0;34m,\u001b[0m\u001b[0;36m2\u001b[0m\u001b[0;34m,\u001b[0m\u001b[0;36m2\u001b[0m\u001b[0;34m,\u001b[0m\u001b[0;36m3\u001b[0m\u001b[0;34m]\u001b[0m\u001b[0;34m)\u001b[0m\u001b[0;34m\u001b[0m\u001b[0;34m\u001b[0m\u001b[0m\n\u001b[0m\u001b[1;32m      2\u001b[0m \u001b[0mprint\u001b[0m\u001b[0;34m(\u001b[0m\u001b[0mtype\u001b[0m\u001b[0;34m(\u001b[0m\u001b[0ms1\u001b[0m\u001b[0;34m)\u001b[0m\u001b[0;34m)\u001b[0m\u001b[0;34m\u001b[0m\u001b[0;34m\u001b[0m\u001b[0m\n\u001b[1;32m      3\u001b[0m \u001b[0mprint\u001b[0m\u001b[0;34m(\u001b[0m\u001b[0ms1\u001b[0m\u001b[0;34m)\u001b[0m\u001b[0;34m\u001b[0m\u001b[0;34m\u001b[0m\u001b[0m\n\u001b[1;32m      4\u001b[0m \u001b[0;34m\u001b[0m\u001b[0m\n\u001b[1;32m      5\u001b[0m \u001b[0mli\u001b[0m \u001b[0;34m=\u001b[0m \u001b[0mlist\u001b[0m\u001b[0;34m(\u001b[0m\u001b[0ms1\u001b[0m\u001b[0;34m)\u001b[0m\u001b[0;34m\u001b[0m\u001b[0;34m\u001b[0m\u001b[0m\n",
            "\u001b[0;31mTypeError\u001b[0m: 'set' object is not callable"
          ]
        }
      ]
    }
  ]
}