{
  "nbformat": 4,
  "nbformat_minor": 0,
  "metadata": {
    "colab": {
      "name": "Day2.ipynb",
      "provenance": [],
      "authorship_tag": "ABX9TyOXGiSbp18E2JG/2ahxHv1X",
      "include_colab_link": true
    },
    "kernelspec": {
      "name": "python3",
      "display_name": "Python 3"
    },
    "language_info": {
      "name": "python"
    }
  },
  "cells": [
    {
      "cell_type": "markdown",
      "metadata": {
        "id": "view-in-github",
        "colab_type": "text"
      },
      "source": [
        "<a href=\"https://colab.research.google.com/github/dlwodbeld/ai/blob/main/Day2.ipynb\" target=\"_parent\"><img src=\"https://colab.research.google.com/assets/colab-badge.svg\" alt=\"Open In Colab\"/></a>"
      ]
    },
    {
      "cell_type": "code",
      "execution_count": 2,
      "metadata": {
        "colab": {
          "base_uri": "https://localhost:8080/"
        },
        "id": "llwHLpkvt8Zy",
        "outputId": "508435c0-62ae-433a-9608-ad5b9ef8fccc"
      },
      "outputs": [
        {
          "output_type": "stream",
          "name": "stdout",
          "text": [
            "r\n",
            "d\n",
            "d\n"
          ]
        }
      ],
      "source": [
        "s = 'world'\n",
        "print(s[2]) #파이선은 인덱스 시작이 0이다.\n",
        "print(s[-1]) #-1은 마지막 인덱스를 가리킨다.\n",
        "print(s[4])"
      ]
    },
    {
      "cell_type": "code",
      "source": [
        "list = [1,2,3,4,5]\n",
        "print(list)\n",
        "print(list[1])\n",
        "print(list[1:3])\n",
        "list[3] = 30\n",
        "print(list)"
      ],
      "metadata": {
        "colab": {
          "base_uri": "https://localhost:8080/"
        },
        "id": "jNqSgsKF-M9q",
        "outputId": "b265cd53-bcb1-4e86-f0bd-7f196f8cc065"
      },
      "execution_count": 3,
      "outputs": [
        {
          "output_type": "stream",
          "name": "stdout",
          "text": [
            "[1, 2, 3, 4, 5]\n",
            "2\n",
            "[2, 3]\n",
            "[1, 2, 3, 30, 5]\n"
          ]
        }
      ]
    },
    {
      "cell_type": "code",
      "source": [
        "list1 = [1,2,3,4,5,6,7,8,9]\n",
        "list2 = [10,20,30]\n",
        "list_a = list1\n",
        "list_b = list2\n",
        "print(list_a,list_b)\n",
        "print(list_a+list_b)\n",
        "#연산\n",
        "print(list_a*2)\n",
        "print(list_a[2]*list_b[1])\n",
        "#.insert()/.extend()\n",
        "list1.insert(0,90)\n",
        "list1.extend([8,9])\n",
        "print(list1)\n",
        "#del()\n",
        "del list1[2] #list1에서 3번째꺼 제거\n",
        "print(list1)\n",
        "del list1[4:6]#4번부터 6번 미만까지\n",
        "print(list1)\n",
        "del list2[:]#생략하면 처음 : 생략하면 끝\n",
        "#.pop()\n",
        "list1.pop()\n",
        "print(list1)\n",
        "#.remove() 값으로 삭제\n",
        "list1.remove(8)\n",
        "print(list1)\n",
        "list1.remove(8)\n",
        "print(list1)\n",
        "#.clear() 리스트 요소를 전부 한번에 삭제\n",
        "list1.clear()\n",
        "list1.extend([1000])\n",
        "print(list1)\n",
        "#in / not in  리스트에 존재하는 요소인지를 확인\n",
        "print(1000 in list1)\n",
        "print(300 in list1)\n",
        "print(300 not in list1)\n",
        "print(1000 not in list1)"
      ],
      "metadata": {
        "colab": {
          "base_uri": "https://localhost:8080/"
        },
        "id": "yRyVwTalEVM2",
        "outputId": "e8c27a00-c9e8-408b-b38e-51a11c849471"
      },
      "execution_count": 4,
      "outputs": [
        {
          "output_type": "stream",
          "name": "stdout",
          "text": [
            "[1, 2, 3, 4, 5, 6, 7, 8, 9] [10, 20, 30]\n",
            "[1, 2, 3, 4, 5, 6, 7, 8, 9, 10, 20, 30]\n",
            "[1, 2, 3, 4, 5, 6, 7, 8, 9, 1, 2, 3, 4, 5, 6, 7, 8, 9]\n",
            "60\n",
            "[90, 1, 2, 3, 4, 5, 6, 7, 8, 9, 8, 9]\n",
            "[90, 1, 3, 4, 5, 6, 7, 8, 9, 8, 9]\n",
            "[90, 1, 3, 4, 7, 8, 9, 8, 9]\n",
            "[90, 1, 3, 4, 7, 8, 9, 8]\n",
            "[90, 1, 3, 4, 7, 9, 8]\n",
            "[90, 1, 3, 4, 7, 9]\n",
            "[1000]\n",
            "True\n",
            "False\n",
            "True\n",
            "False\n"
          ]
        }
      ]
    },
    {
      "cell_type": "code",
      "source": [
        "dict = {\n",
        "    \"name\" : \"엔드 게임\",\n",
        "    \"no\" : 1,\n",
        "    \"tpye\" : \"히어로 무비\",\n",
        "    \"price\" : 10000\n",
        "}\n",
        "print(dict)\n",
        "print(dict['name'])"
      ],
      "metadata": {
        "colab": {
          "base_uri": "https://localhost:8080/"
        },
        "id": "79Pm8dcpifPD",
        "outputId": "50d889c0-8525-4e44-ee23-5cc049c157d2"
      },
      "execution_count": 5,
      "outputs": [
        {
          "output_type": "stream",
          "name": "stdout",
          "text": [
            "{'name': '엔드 게임', 'no': 1, 'tpye': '히어로 무비', 'price': 10000}\n",
            "엔드 게임\n"
          ]
        }
      ]
    },
    {
      "cell_type": "code",
      "source": [
        "dict ={\n",
        "    \"감독\" :[\"안소니\",\"루소\"],\n",
        "    \"배우\":[\"타노스\",\"토르\",\"토니 스타크\"]\n",
        "}\n",
        "print(dict[\"감독\"])"
      ],
      "metadata": {
        "colab": {
          "base_uri": "https://localhost:8080/"
        },
        "id": "hMQLJKVylGg8",
        "outputId": "23a29c91-457a-4f12-8edc-8094dbcd7733"
      },
      "execution_count": 6,
      "outputs": [
        {
          "output_type": "stream",
          "name": "stdout",
          "text": [
            "['안소니', '루소']\n"
          ]
        }
      ]
    },
    {
      "cell_type": "code",
      "source": [
        "dict = {\n",
        "    'name' : '건조 망고',\n",
        "    'type' : '절임 과일',\n",
        "    'ingredient' : ['망고','설탕','색소'],\n",
        "    'origin':'필리핀'\n",
        "}\n",
        "print('name: ',dict['name'])\n",
        "print('type: ',dict['type'])\n",
        "print('ingredient: ',dict['ingredient'])\n",
        "print('origin: ',dict['origin'])\n",
        "#변경\n",
        "dict['name'] = '망고'\n",
        "print('name:' , dict['name'])\n",
        "\n",
        "print(dict['ingredient'][0])\n",
        "#추가\n",
        "dict['price'] = 5000\n",
        "print(dict)\n",
        "#수정(있는경우에만)\n",
        "dict['price'] = 4000\n",
        "print(dict)\n",
        "#삭제\n",
        "del dict['price']\n",
        "print(dict)"
      ],
      "metadata": {
        "colab": {
          "base_uri": "https://localhost:8080/"
        },
        "id": "EB0H8bryl_ZN",
        "outputId": "6dca06a5-d470-48da-f01c-0905774d0919"
      },
      "execution_count": 7,
      "outputs": [
        {
          "output_type": "stream",
          "name": "stdout",
          "text": [
            "name:  건조 망고\n",
            "type:  절임 과일\n",
            "ingredient:  ['망고', '설탕', '색소']\n",
            "origin:  필리핀\n",
            "name: 망고\n",
            "망고\n",
            "{'name': '망고', 'type': '절임 과일', 'ingredient': ['망고', '설탕', '색소'], 'origin': '필리핀', 'price': 5000}\n",
            "{'name': '망고', 'type': '절임 과일', 'ingredient': ['망고', '설탕', '색소'], 'origin': '필리핀', 'price': 4000}\n",
            "{'name': '망고', 'type': '절임 과일', 'ingredient': ['망고', '설탕', '색소'], 'origin': '필리핀'}\n"
          ]
        }
      ]
    },
    {
      "cell_type": "code",
      "source": [
        "dict = {}\n",
        "\n",
        "dict['name'] = '새이름'\n",
        "dict['height'] = 185\n",
        "dict['weight'] = 75\n",
        "\n",
        "print(dict)\n",
        "#삭제\n",
        "del dict['weight']\n",
        "print(dict)\n"
      ],
      "metadata": {
        "colab": {
          "base_uri": "https://localhost:8080/"
        },
        "id": "ZJWkkzilogU6",
        "outputId": "78789b91-cf25-4806-e4dd-7abb7536abbb"
      },
      "execution_count": 8,
      "outputs": [
        {
          "output_type": "stream",
          "name": "stdout",
          "text": [
            "{'name': '새이름', 'height': 185, 'weight': 75}\n",
            "{'name': '새이름', 'height': 185}\n"
          ]
        }
      ]
    },
    {
      "cell_type": "code",
      "source": [
        "#dict 자주 등장하는 에러(예외)\n",
        "\n",
        "dict = {\n",
        "    'name' : '건조 망고',\n",
        "    'type' : '절임 과일',\n",
        "    'ingredient' : ['망고','설탕','색소'],\n",
        "    'origin':'필리핀'\n",
        "}\n",
        "\n",
        "del dict['nane'] #존재하지 않는 키값을 제거하려고하니 에러가 뜬다."
      ],
      "metadata": {
        "id": "WwDGPLW_prcn"
      },
      "execution_count": 9,
      "outputs": []
    },
    {
      "cell_type": "code",
      "source": [
        "dict = {\n",
        "    'name' : '건조 망고',\n",
        "    'type' : '절임 과일',\n",
        "    'ingredient' : ['망고','설탕','색소'],\n",
        "    'origin':'필리핀'\n",
        "}\n",
        "\n",
        "key = input('>삭제를 원하는 데이터의 키값을 입렵하세요 : ')\n",
        "\n",
        "if key in dict:\n",
        "  print(dict)\n",
        "  print(dict[key],\"삭제\")\n",
        "  del dict[key]\n",
        "  print(dict)\n",
        "else:\n",
        "  print('존재하지 않는 키에 접근하고 있습니다.')\n",
        "print(dict)"
      ],
      "metadata": {
        "colab": {
          "base_uri": "https://localhost:8080/"
        },
        "id": "xogEs1eoqIh9",
        "outputId": "87712218-6dd9-4596-a70f-bc7f6ff130a3"
      },
      "execution_count": 10,
      "outputs": [
        {
          "output_type": "stream",
          "name": "stdout",
          "text": [
            ">삭제를 원하는 데이터의 키값을 입렵하세요 : name\n",
            "{'name': '건조 망고', 'type': '절임 과일', 'ingredient': ['망고', '설탕', '색소'], 'origin': '필리핀'}\n",
            "건조 망고 삭제\n",
            "{'type': '절임 과일', 'ingredient': ['망고', '설탕', '색소'], 'origin': '필리핀'}\n",
            "{'type': '절임 과일', 'ingredient': ['망고', '설탕', '색소'], 'origin': '필리핀'}\n"
          ]
        }
      ]
    },
    {
      "cell_type": "code",
      "source": [
        "#튜플 (1,)인 이유/()생략 가능\n",
        "t = (1,2)\n",
        "print(t)\n",
        "print(type(t))\n",
        "t2 = 3,4\n",
        "print(t2)\n",
        "print(type(t2))\n",
        "\n",
        "t3 = (5) # (5) == 5 가 되므로 정수로 인식하여 int로 된다.\n",
        "t4 = 5\n",
        "t6 = (6,)\n",
        "t7 = 7,\n",
        "print(t3)\n",
        "print(type(t3))\n",
        "print(t4)\n",
        "print(type(t4))\n",
        "print(t6)\n",
        "print(type(t6))\n",
        "print(t7)\n",
        "print(type(t7))"
      ],
      "metadata": {
        "colab": {
          "base_uri": "https://localhost:8080/"
        },
        "id": "BpEEVDMLwnJ-",
        "outputId": "a0b7ecaf-a003-45e0-a88a-fa8fe6699d31"
      },
      "execution_count": 11,
      "outputs": [
        {
          "output_type": "stream",
          "name": "stdout",
          "text": [
            "(1, 2)\n",
            "<class 'tuple'>\n",
            "(3, 4)\n",
            "<class 'tuple'>\n",
            "5\n",
            "<class 'int'>\n",
            "5\n",
            "<class 'int'>\n",
            "(6,)\n",
            "<class 'tuple'>\n",
            "(7,)\n",
            "<class 'tuple'>\n"
          ]
        }
      ]
    },
    {
      "cell_type": "code",
      "source": [
        "# 파괴적  동작은 불가능\n",
        "t = (1,2,3,4,5)\n",
        "print(t)\n",
        "print(type(t))\n",
        "#t[0] = 8 튜플은 수정 불가\n",
        "#del t[0] 튜플은 삭제불가\n"
      ],
      "metadata": {
        "colab": {
          "base_uri": "https://localhost:8080/"
        },
        "id": "o7AVPORJy4YD",
        "outputId": "0cd36df7-a80c-4f25-a512-104955ae4347"
      },
      "execution_count": 12,
      "outputs": [
        {
          "output_type": "stream",
          "name": "stdout",
          "text": [
            "(1, 2, 3, 4, 5)\n",
            "<class 'tuple'>\n"
          ]
        }
      ]
    },
    {
      "cell_type": "code",
      "source": [
        "# 비파괴적 동작은 가능\n",
        "t = (1,2,3,4,5)\n",
        "print(t[1])\n",
        "print(t[3:])"
      ],
      "metadata": {
        "colab": {
          "base_uri": "https://localhost:8080/"
        },
        "id": "s_g3z2vZzOV6",
        "outputId": "24fd25cc-77fa-48fd-f40d-da8459f96b31"
      },
      "execution_count": 13,
      "outputs": [
        {
          "output_type": "stream",
          "name": "stdout",
          "text": [
            "2\n",
            "(4, 5)\n"
          ]
        }
      ]
    },
    {
      "cell_type": "code",
      "source": [
        "#비파괴적 연산은 가능하다.\n",
        "t1 = (1,2,3,4,5)\n",
        "t2 = (6,7,8,9)\n",
        "print(t1)\n",
        "print(t2)\n",
        "print(t1+t2)\n",
        "\n",
        "print(type(t1),type(t2))\n",
        "print(t1*3)\n",
        "print(t1)"
      ],
      "metadata": {
        "colab": {
          "base_uri": "https://localhost:8080/"
        },
        "id": "g4GOJr9pzv4G",
        "outputId": "c6e07e50-f3e2-483e-c5a0-632f04fa2fde"
      },
      "execution_count": 14,
      "outputs": [
        {
          "output_type": "stream",
          "name": "stdout",
          "text": [
            "(1, 2, 3, 4, 5)\n",
            "(6, 7, 8, 9)\n",
            "(1, 2, 3, 4, 5, 6, 7, 8, 9)\n",
            "<class 'tuple'> <class 'tuple'>\n",
            "(1, 2, 3, 4, 5, 1, 2, 3, 4, 5, 1, 2, 3, 4, 5)\n",
            "(1, 2, 3, 4, 5)\n"
          ]
        }
      ]
    },
    {
      "cell_type": "code",
      "source": [
        "#Set 집합\n",
        "set = {1,1,2,2,3,4}\n",
        "print(set) #중복을 허용하지 않는다.\n",
        "print(type(set))\n",
        "#s1 = list(set)\n",
        "#print(s1[0])\n",
        "#print(type(s1))"
      ],
      "metadata": {
        "colab": {
          "base_uri": "https://localhost:8080/"
        },
        "id": "3BshyhIq1lCl",
        "outputId": "eec6481e-110e-4e09-f707-831b75857a07"
      },
      "execution_count": 15,
      "outputs": [
        {
          "output_type": "stream",
          "name": "stdout",
          "text": [
            "{1, 2, 3, 4}\n",
            "<class 'set'>\n"
          ]
        }
      ]
    },
    {
      "cell_type": "code",
      "source": [
        "s1 = set([1,1,1,2,2,3])\n",
        "print(type(s1))\n",
        "print(s1)\n",
        "\n",
        "li = list(s1)\n",
        "print(type(li))\n",
        "print(li)\n",
        "li[0]"
      ],
      "metadata": {
        "colab": {
          "base_uri": "https://localhost:8080/"
        },
        "id": "h5InqVzh3LYp",
        "outputId": "ca0b7a21-88a2-476d-cc36-f0cd59cb9100"
      },
      "execution_count": 1,
      "outputs": [
        {
          "output_type": "stream",
          "name": "stdout",
          "text": [
            "<class 'set'>\n",
            "{1, 2, 3}\n",
            "<class 'list'>\n",
            "[1, 2, 3]\n"
          ]
        },
        {
          "output_type": "execute_result",
          "data": {
            "text/plain": [
              "1"
            ]
          },
          "metadata": {},
          "execution_count": 1
        }
      ]
    },
    {
      "cell_type": "code",
      "source": [
        "#집합 계산\n",
        "\n",
        "set1 = {1,2,3}\n",
        "set2 = {2,3,4}\n",
        "\n",
        "print(type(set1))\n",
        "print(type(set2))\n",
        "#양쪽 집합에 모두 공통적으로 포함되는 원소 -> 교집합\n",
        "print(set1 & set2)\n",
        "print(set1.intersection(set2))\n",
        "#양쪽 집합의 모든 원소(중복제외) ->합집합\n",
        "print(set1 | set2)\n",
        "print(set1.union(set2))\n",
        "#두개 집합의 차 - 차집합\n",
        "print(set1 - set2)\n",
        "print(set1.difference(set2))\n",
        "print(set2 - set1)\n",
        "print(set2.difference(set1))\n"
      ],
      "metadata": {
        "colab": {
          "base_uri": "https://localhost:8080/"
        },
        "id": "S544M0g44xXr",
        "outputId": "c5474007-a6e2-4725-d5d1-5888b98d4c2e"
      },
      "execution_count": 23,
      "outputs": [
        {
          "output_type": "stream",
          "name": "stdout",
          "text": [
            "<class 'set'>\n",
            "<class 'set'>\n",
            "{2, 3}\n",
            "{2, 3}\n",
            "{1, 2, 3, 4}\n",
            "{1, 2, 3, 4}\n",
            "{1}\n",
            "{1}\n",
            "{4}\n",
            "{4}\n"
          ]
        }
      ]
    },
    {
      "cell_type": "code",
      "source": [
        "#집합은 삽입 가능\n",
        "\n",
        "set1 = {1,2,3}\n",
        "print(set1)\n",
        "print(type(set1))\n",
        "set1.add(4)\n",
        "print(set1)\n",
        "\n",
        "set1.update([5,6,7,8])\n",
        "print(set1)\n",
        "print(type(set1))\n",
        "\n",
        "#집합은 삭제가 가능하다.\n",
        "#집합은 인덱스 개념이 존재하지않는다. 따라거 값을 지정하여 직접 삭제한다.\n",
        "set1.remove(4) # value(값) 를(을) 삭제.\n",
        "print(set1)\n",
        "\n"
      ],
      "metadata": {
        "colab": {
          "base_uri": "https://localhost:8080/"
        },
        "id": "9lu_KSsi6cuI",
        "outputId": "ca4b3b2a-49b3-4734-ad29-aea9b34dab5d"
      },
      "execution_count": 26,
      "outputs": [
        {
          "output_type": "stream",
          "name": "stdout",
          "text": [
            "{1, 2, 3}\n",
            "<class 'set'>\n",
            "{1, 2, 3, 4}\n",
            "{1, 2, 3, 4, 5, 6, 7, 8}\n",
            "<class 'set'>\n",
            "{1, 2, 3, 5, 6, 7, 8}\n"
          ]
        }
      ]
    }
  ]
}