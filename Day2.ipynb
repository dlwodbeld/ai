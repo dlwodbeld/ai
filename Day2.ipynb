{
  "nbformat": 4,
  "nbformat_minor": 0,
  "metadata": {
    "colab": {
      "name": "Day2.ipynb",
      "provenance": [],
      "collapsed_sections": [],
      "authorship_tag": "ABX9TyO8eJn8E1KpuFkQgYV5q4Fd",
      "include_colab_link": true
    },
    "kernelspec": {
      "name": "python3",
      "display_name": "Python 3"
    },
    "language_info": {
      "name": "python"
    }
  },
  "cells": [
    {
      "cell_type": "markdown",
      "metadata": {
        "id": "view-in-github",
        "colab_type": "text"
      },
      "source": [
        "<a href=\"https://colab.research.google.com/github/dlwodbeld/ai/blob/main/Day2.ipynb\" target=\"_parent\"><img src=\"https://colab.research.google.com/assets/colab-badge.svg\" alt=\"Open In Colab\"/></a>"
      ]
    },
    {
      "cell_type": "code",
      "execution_count": 2,
      "metadata": {
        "colab": {
          "base_uri": "https://localhost:8080/"
        },
        "id": "llwHLpkvt8Zy",
        "outputId": "508435c0-62ae-433a-9608-ad5b9ef8fccc"
      },
      "outputs": [
        {
          "output_type": "stream",
          "name": "stdout",
          "text": [
            "r\n",
            "d\n",
            "d\n"
          ]
        }
      ],
      "source": [
        "s = 'world'\n",
        "print(s[2]) #파이선은 인덱스 시작이 0이다.\n",
        "print(s[-1]) #-1은 마지막 인덱스를 가리킨다.\n",
        "print(s[4])"
      ]
    },
    {
      "cell_type": "code",
      "source": [
        "list = [1,2,3,4,5]\n",
        "print(list)\n",
        "print(list[1])\n",
        "print(list[1:3])\n",
        "list[3] = 30\n",
        "print(list)"
      ],
      "metadata": {
        "colab": {
          "base_uri": "https://localhost:8080/"
        },
        "id": "jNqSgsKF-M9q",
        "outputId": "b265cd53-bcb1-4e86-f0bd-7f196f8cc065"
      },
      "execution_count": 3,
      "outputs": [
        {
          "output_type": "stream",
          "name": "stdout",
          "text": [
            "[1, 2, 3, 4, 5]\n",
            "2\n",
            "[2, 3]\n",
            "[1, 2, 3, 30, 5]\n"
          ]
        }
      ]
    },
    {
      "cell_type": "code",
      "source": [
        "list1 = [1,2,3,4,5,6,7,8,9]\n",
        "list2 = [10,20,30]\n",
        "list_a = list1\n",
        "list_b = list2\n",
        "print(list_a,list_b)\n",
        "print(list_a+list_b)\n",
        "#연산\n",
        "print(list_a*2)\n",
        "print(list_a[2]*list_b[1])\n",
        "#.insert()/.extend()\n",
        "list1.insert(0,90)\n",
        "list1.extend([8,9])\n",
        "print(list1)\n",
        "#del()\n",
        "del list1[2] #list1에서 3번째꺼 제거\n",
        "print(list1)\n",
        "del list1[4:6]#4번부터 6번 미만까지\n",
        "print(list1)\n",
        "del list2[:]#생략하면 처음 : 생략하면 끝\n",
        "#.pop()\n",
        "list1.pop()\n",
        "print(list1)\n",
        "#.remove() 값으로 삭제\n",
        "list1.remove(8)\n",
        "print(list1)\n",
        "list1.remove(8)\n",
        "print(list1)\n",
        "#.clear() 리스트 요소를 전부 한번에 삭제\n",
        "list1.clear()\n",
        "list1.extend([1000])\n",
        "print(list1)\n",
        "#in / not in  리스트에 존재하는 요소인지를 확인\n",
        "print(1000 in list1)\n",
        "print(300 in list1)\n",
        "print(300 not in list1)\n",
        "print(1000 not in list1)"
      ],
      "metadata": {
        "colab": {
          "base_uri": "https://localhost:8080/"
        },
        "id": "yRyVwTalEVM2",
        "outputId": "e8c27a00-c9e8-408b-b38e-51a11c849471"
      },
      "execution_count": 4,
      "outputs": [
        {
          "output_type": "stream",
          "name": "stdout",
          "text": [
            "[1, 2, 3, 4, 5, 6, 7, 8, 9] [10, 20, 30]\n",
            "[1, 2, 3, 4, 5, 6, 7, 8, 9, 10, 20, 30]\n",
            "[1, 2, 3, 4, 5, 6, 7, 8, 9, 1, 2, 3, 4, 5, 6, 7, 8, 9]\n",
            "60\n",
            "[90, 1, 2, 3, 4, 5, 6, 7, 8, 9, 8, 9]\n",
            "[90, 1, 3, 4, 5, 6, 7, 8, 9, 8, 9]\n",
            "[90, 1, 3, 4, 7, 8, 9, 8, 9]\n",
            "[90, 1, 3, 4, 7, 8, 9, 8]\n",
            "[90, 1, 3, 4, 7, 9, 8]\n",
            "[90, 1, 3, 4, 7, 9]\n",
            "[1000]\n",
            "True\n",
            "False\n",
            "True\n",
            "False\n"
          ]
        }
      ]
    },
    {
      "cell_type": "code",
      "source": [
        "dict = {\n",
        "    \"name\" : \"엔드 게임\",\n",
        "    \"no\" : 1,\n",
        "    \"tpye\" : \"히어로 무비\",\n",
        "    \"price\" : 10000\n",
        "}\n",
        "print(dict)\n",
        "print(dict['name'])"
      ],
      "metadata": {
        "colab": {
          "base_uri": "https://localhost:8080/"
        },
        "id": "79Pm8dcpifPD",
        "outputId": "50d889c0-8525-4e44-ee23-5cc049c157d2"
      },
      "execution_count": 5,
      "outputs": [
        {
          "output_type": "stream",
          "name": "stdout",
          "text": [
            "{'name': '엔드 게임', 'no': 1, 'tpye': '히어로 무비', 'price': 10000}\n",
            "엔드 게임\n"
          ]
        }
      ]
    },
    {
      "cell_type": "code",
      "source": [
        "dict ={\n",
        "    \"감독\" :[\"안소니\",\"루소\"],\n",
        "    \"배우\":[\"타노스\",\"토르\",\"토니 스타크\"]\n",
        "}\n",
        "print(dict[\"감독\"])"
      ],
      "metadata": {
        "colab": {
          "base_uri": "https://localhost:8080/"
        },
        "id": "hMQLJKVylGg8",
        "outputId": "23a29c91-457a-4f12-8edc-8094dbcd7733"
      },
      "execution_count": 6,
      "outputs": [
        {
          "output_type": "stream",
          "name": "stdout",
          "text": [
            "['안소니', '루소']\n"
          ]
        }
      ]
    },
    {
      "cell_type": "code",
      "source": [
        "dict = {\n",
        "    'name' : '건조 망고',\n",
        "    'type' : '절임 과일',\n",
        "    'ingredient' : ['망고','설탕','색소'],\n",
        "    'origin':'필리핀'\n",
        "}\n",
        "print('name: ',dict['name'])\n",
        "print('type: ',dict['type'])\n",
        "print('ingredient: ',dict['ingredient'])\n",
        "print('origin: ',dict['origin'])\n",
        "#변경\n",
        "dict['name'] = '망고'\n",
        "print('name:' , dict['name'])\n",
        "\n",
        "print(dict['ingredient'][0])\n",
        "#추가\n",
        "dict['price'] = 5000\n",
        "print(dict)\n",
        "#수정(있는경우에만)\n",
        "dict['price'] = 4000\n",
        "print(dict)\n",
        "#삭제\n",
        "del dict['price']\n",
        "print(dict)"
      ],
      "metadata": {
        "colab": {
          "base_uri": "https://localhost:8080/"
        },
        "id": "EB0H8bryl_ZN",
        "outputId": "6dca06a5-d470-48da-f01c-0905774d0919"
      },
      "execution_count": 7,
      "outputs": [
        {
          "output_type": "stream",
          "name": "stdout",
          "text": [
            "name:  건조 망고\n",
            "type:  절임 과일\n",
            "ingredient:  ['망고', '설탕', '색소']\n",
            "origin:  필리핀\n",
            "name: 망고\n",
            "망고\n",
            "{'name': '망고', 'type': '절임 과일', 'ingredient': ['망고', '설탕', '색소'], 'origin': '필리핀', 'price': 5000}\n",
            "{'name': '망고', 'type': '절임 과일', 'ingredient': ['망고', '설탕', '색소'], 'origin': '필리핀', 'price': 4000}\n",
            "{'name': '망고', 'type': '절임 과일', 'ingredient': ['망고', '설탕', '색소'], 'origin': '필리핀'}\n"
          ]
        }
      ]
    },
    {
      "cell_type": "code",
      "source": [
        "dict = {}\n",
        "\n",
        "dict['name'] = '새이름'\n",
        "dict['height'] = 185\n",
        "dict['weight'] = 75\n",
        "\n",
        "print(dict)\n",
        "#삭제\n",
        "del dict['weight']\n",
        "print(dict)\n"
      ],
      "metadata": {
        "colab": {
          "base_uri": "https://localhost:8080/"
        },
        "id": "ZJWkkzilogU6",
        "outputId": "78789b91-cf25-4806-e4dd-7abb7536abbb"
      },
      "execution_count": 8,
      "outputs": [
        {
          "output_type": "stream",
          "name": "stdout",
          "text": [
            "{'name': '새이름', 'height': 185, 'weight': 75}\n",
            "{'name': '새이름', 'height': 185}\n"
          ]
        }
      ]
    },
    {
      "cell_type": "code",
      "source": [
        "#dict 자주 등장하는 에러(예외)\n",
        "\n",
        "dict = {\n",
        "    'name' : '건조 망고',\n",
        "    'type' : '절임 과일',\n",
        "    'ingredient' : ['망고','설탕','색소'],\n",
        "    'origin':'필리핀'\n",
        "}\n",
        "\n",
        "del dict['nane'] #존재하지 않는 키값을 제거하려고하니 에러가 뜬다."
      ],
      "metadata": {
        "id": "WwDGPLW_prcn"
      },
      "execution_count": 9,
      "outputs": []
    },
    {
      "cell_type": "code",
      "source": [
        "dict = {\n",
        "    'name' : '건조 망고',\n",
        "    'type' : '절임 과일',\n",
        "    'ingredient' : ['망고','설탕','색소'],\n",
        "    'origin':'필리핀'\n",
        "}\n",
        "\n",
        "key = input('>삭제를 원하는 데이터의 키값을 입렵하세요 : ')\n",
        "\n",
        "if key in dict:\n",
        "  print(dict)\n",
        "  print(dict[key],\"삭제\")\n",
        "  del dict[key]\n",
        "  print(dict)\n",
        "else:\n",
        "  print('존재하지 않는 키에 접근하고 있습니다.')\n",
        "print(dict)"
      ],
      "metadata": {
        "colab": {
          "base_uri": "https://localhost:8080/"
        },
        "id": "xogEs1eoqIh9",
        "outputId": "87712218-6dd9-4596-a70f-bc7f6ff130a3"
      },
      "execution_count": 10,
      "outputs": [
        {
          "output_type": "stream",
          "name": "stdout",
          "text": [
            ">삭제를 원하는 데이터의 키값을 입렵하세요 : name\n",
            "{'name': '건조 망고', 'type': '절임 과일', 'ingredient': ['망고', '설탕', '색소'], 'origin': '필리핀'}\n",
            "건조 망고 삭제\n",
            "{'type': '절임 과일', 'ingredient': ['망고', '설탕', '색소'], 'origin': '필리핀'}\n",
            "{'type': '절임 과일', 'ingredient': ['망고', '설탕', '색소'], 'origin': '필리핀'}\n"
          ]
        }
      ]
    },
    {
      "cell_type": "code",
      "source": [
        "#튜플 (1,)인 이유/()생략 가능\n",
        "t = (1,2)\n",
        "print(t)\n",
        "print(type(t))\n",
        "t2 = 3,4\n",
        "print(t2)\n",
        "print(type(t2))\n",
        "\n",
        "t3 = (5) # (5) == 5 가 되므로 정수로 인식하여 int로 된다.\n",
        "t4 = 5\n",
        "t6 = (6,)\n",
        "t7 = 7,\n",
        "print(t3)\n",
        "print(type(t3))\n",
        "print(t4)\n",
        "print(type(t4))\n",
        "print(t6)\n",
        "print(type(t6))\n",
        "print(t7)\n",
        "print(type(t7))"
      ],
      "metadata": {
        "colab": {
          "base_uri": "https://localhost:8080/"
        },
        "id": "BpEEVDMLwnJ-",
        "outputId": "a0b7ecaf-a003-45e0-a88a-fa8fe6699d31"
      },
      "execution_count": 11,
      "outputs": [
        {
          "output_type": "stream",
          "name": "stdout",
          "text": [
            "(1, 2)\n",
            "<class 'tuple'>\n",
            "(3, 4)\n",
            "<class 'tuple'>\n",
            "5\n",
            "<class 'int'>\n",
            "5\n",
            "<class 'int'>\n",
            "(6,)\n",
            "<class 'tuple'>\n",
            "(7,)\n",
            "<class 'tuple'>\n"
          ]
        }
      ]
    },
    {
      "cell_type": "code",
      "source": [
        "# 파괴적  동작은 불가능\n",
        "t = (1,2,3,4,5)\n",
        "print(t)\n",
        "print(type(t))\n",
        "#t[0] = 8 튜플은 수정 불가\n",
        "#del t[0] 튜플은 삭제불가\n"
      ],
      "metadata": {
        "colab": {
          "base_uri": "https://localhost:8080/"
        },
        "id": "o7AVPORJy4YD",
        "outputId": "0cd36df7-a80c-4f25-a512-104955ae4347"
      },
      "execution_count": 12,
      "outputs": [
        {
          "output_type": "stream",
          "name": "stdout",
          "text": [
            "(1, 2, 3, 4, 5)\n",
            "<class 'tuple'>\n"
          ]
        }
      ]
    },
    {
      "cell_type": "code",
      "source": [
        "# 비파괴적 동작은 가능\n",
        "t = (1,2,3,4,5)\n",
        "print(t[1])\n",
        "print(t[3:])"
      ],
      "metadata": {
        "colab": {
          "base_uri": "https://localhost:8080/"
        },
        "id": "s_g3z2vZzOV6",
        "outputId": "24fd25cc-77fa-48fd-f40d-da8459f96b31"
      },
      "execution_count": 13,
      "outputs": [
        {
          "output_type": "stream",
          "name": "stdout",
          "text": [
            "2\n",
            "(4, 5)\n"
          ]
        }
      ]
    },
    {
      "cell_type": "code",
      "source": [
        "#비파괴적 연산은 가능하다.\n",
        "t1 = (1,2,3,4,5)\n",
        "t2 = (6,7,8,9)\n",
        "print(t1)\n",
        "print(t2)\n",
        "print(t1+t2)\n",
        "\n",
        "print(type(t1),type(t2))\n",
        "print(t1*3)\n",
        "print(t1)"
      ],
      "metadata": {
        "colab": {
          "base_uri": "https://localhost:8080/"
        },
        "id": "g4GOJr9pzv4G",
        "outputId": "c6e07e50-f3e2-483e-c5a0-632f04fa2fde"
      },
      "execution_count": 14,
      "outputs": [
        {
          "output_type": "stream",
          "name": "stdout",
          "text": [
            "(1, 2, 3, 4, 5)\n",
            "(6, 7, 8, 9)\n",
            "(1, 2, 3, 4, 5, 6, 7, 8, 9)\n",
            "<class 'tuple'> <class 'tuple'>\n",
            "(1, 2, 3, 4, 5, 1, 2, 3, 4, 5, 1, 2, 3, 4, 5)\n",
            "(1, 2, 3, 4, 5)\n"
          ]
        }
      ]
    },
    {
      "cell_type": "code",
      "source": [
        "#Set 집합\n",
        "set = {1,1,2,2,3,4}\n",
        "print(set) #중복을 허용하지 않는다.\n",
        "print(type(set))\n",
        "#s1 = list(set)\n",
        "#print(s1[0])\n",
        "#print(type(s1))"
      ],
      "metadata": {
        "colab": {
          "base_uri": "https://localhost:8080/"
        },
        "id": "3BshyhIq1lCl",
        "outputId": "eec6481e-110e-4e09-f707-831b75857a07"
      },
      "execution_count": 15,
      "outputs": [
        {
          "output_type": "stream",
          "name": "stdout",
          "text": [
            "{1, 2, 3, 4}\n",
            "<class 'set'>\n"
          ]
        }
      ]
    },
    {
      "cell_type": "code",
      "source": [
        "s1 = set([1,1,1,2,2,3])\n",
        "print(type(s1))\n",
        "print(s1)\n",
        "\n",
        "li = list(s1)\n",
        "print(type(li))\n",
        "print(li)\n",
        "li[0]"
      ],
      "metadata": {
        "colab": {
          "base_uri": "https://localhost:8080/"
        },
        "id": "h5InqVzh3LYp",
        "outputId": "ca0b7a21-88a2-476d-cc36-f0cd59cb9100"
      },
      "execution_count": 1,
      "outputs": [
        {
          "output_type": "stream",
          "name": "stdout",
          "text": [
            "<class 'set'>\n",
            "{1, 2, 3}\n",
            "<class 'list'>\n",
            "[1, 2, 3]\n"
          ]
        },
        {
          "output_type": "execute_result",
          "data": {
            "text/plain": [
              "1"
            ]
          },
          "metadata": {},
          "execution_count": 1
        }
      ]
    },
    {
      "cell_type": "code",
      "source": [
        "#집합 계산\n",
        "\n",
        "set1 = {1,2,3}\n",
        "set2 = {2,3,4}\n",
        "\n",
        "print(type(set1))\n",
        "print(type(set2))\n",
        "#양쪽 집합에 모두 공통적으로 포함되는 원소 -> 교집합\n",
        "print(set1 & set2)\n",
        "print(set1.intersection(set2))\n",
        "#양쪽 집합의 모든 원소(중복제외) ->합집합\n",
        "print(set1 | set2)\n",
        "print(set1.union(set2))\n",
        "#두개 집합의 차 - 차집합\n",
        "print(set1 - set2)\n",
        "print(set1.difference(set2))\n",
        "print(set2 - set1)\n",
        "print(set2.difference(set1))\n"
      ],
      "metadata": {
        "colab": {
          "base_uri": "https://localhost:8080/"
        },
        "id": "S544M0g44xXr",
        "outputId": "c5474007-a6e2-4725-d5d1-5888b98d4c2e"
      },
      "execution_count": 23,
      "outputs": [
        {
          "output_type": "stream",
          "name": "stdout",
          "text": [
            "<class 'set'>\n",
            "<class 'set'>\n",
            "{2, 3}\n",
            "{2, 3}\n",
            "{1, 2, 3, 4}\n",
            "{1, 2, 3, 4}\n",
            "{1}\n",
            "{1}\n",
            "{4}\n",
            "{4}\n"
          ]
        }
      ]
    },
    {
      "cell_type": "code",
      "source": [
        "#집합은 삽입 가능\n",
        "\n",
        "set1 = {1,2,3}\n",
        "print(set1)\n",
        "print(type(set1))\n",
        "set1.add(4)\n",
        "print(set1)\n",
        "\n",
        "set1.update([5,6,7,8])\n",
        "print(set1)\n",
        "print(type(set1))\n",
        "\n",
        "#집합은 삭제가 가능하다.\n",
        "#집합은 인덱스 개념이 존재하지않는다. 따라거 값을 지정하여 직접 삭제한다.\n",
        "set1.remove(4) # value(값) 를(을) 삭제.\n",
        "print(set1)\n",
        "\n"
      ],
      "metadata": {
        "colab": {
          "base_uri": "https://localhost:8080/"
        },
        "id": "9lu_KSsi6cuI",
        "outputId": "ca4b3b2a-49b3-4734-ad29-aea9b34dab5d"
      },
      "execution_count": 26,
      "outputs": [
        {
          "output_type": "stream",
          "name": "stdout",
          "text": [
            "{1, 2, 3}\n",
            "<class 'set'>\n",
            "{1, 2, 3, 4}\n",
            "{1, 2, 3, 4, 5, 6, 7, 8}\n",
            "<class 'set'>\n",
            "{1, 2, 3, 5, 6, 7, 8}\n"
          ]
        }
      ]
    },
    {
      "cell_type": "code",
      "source": [
        "#Q1. 입력) 학번을 입력하세요 ex>31025 -> 3학년 10반 25번\n",
        "\n",
        "sn = input('>학번을 입력하세요 : ')\n",
        "\n",
        "print(f'{sn[0]}학년 {sn[1:3]}반 {sn[3:]}번')"
      ],
      "metadata": {
        "colab": {
          "base_uri": "https://localhost:8080/"
        },
        "id": "vg1kxBSx_zQH",
        "outputId": "4cbcb211-9a31-4ac1-d4bd-59b8c9591b83"
      },
      "execution_count": 32,
      "outputs": [
        {
          "output_type": "stream",
          "name": "stdout",
          "text": [
            ">학번을 입력하세요 : 32014\n",
            "3학년 20반 14번\n"
          ]
        }
      ]
    },
    {
      "cell_type": "code",
      "source": [
        "#Q2. 입력) 차량번호를 입력하세요.\n",
        "\n",
        "car = input('>차량번호를 입력하세요 : ')\n",
        "\n",
        "print(f'{car}의 차량번호 끝은 {car[-4:]}입니다.')"
      ],
      "metadata": {
        "colab": {
          "base_uri": "https://localhost:8080/"
        },
        "id": "uiiA_wfaB-cP",
        "outputId": "83004e2c-a3b4-47da-a6f6-7f1b790896e1"
      },
      "execution_count": 35,
      "outputs": [
        {
          "output_type": "stream",
          "name": "stdout",
          "text": [
            ">차량번호를 입력하세요 : ㅇ랴2ㄱ3411\n",
            "ㅇ랴2ㄱ3411의 차량번호 끝은 3411입니다.\n"
          ]
        }
      ]
    },
    {
      "cell_type": "code",
      "source": [
        "#Q3. 인덱싱과 슬라이싱을 사용하지 않고 name = 'austin' 가운데 글자를 추출하는 프로그램을 구현하시오.\n",
        "\n",
        "ctx = input('>글자를 입력하세요. : ')\n",
        "a = len(ctx)\n",
        "if int(a%2==1):\n",
        "  print(f'{ctx}의 글자의 갯수는 {a}개 입니다.')\n",
        "elif int(a%2==0):\n",
        "    print(f'{ctx}의 글자의 갯수가 {a}개여서 홀수가 아닙니다. ')\n",
        "\n"
      ],
      "metadata": {
        "colab": {
          "base_uri": "https://localhost:8080/"
        },
        "id": "CwkXE5gkDk1P",
        "outputId": "72f3c55c-5413-48af-cfcc-2ce3c0d800e5"
      },
      "execution_count": 48,
      "outputs": [
        {
          "output_type": "stream",
          "name": "stdout",
          "text": [
            ">글자를 입력하세요. : ㅁㄴ아\n",
            "ㅁㄴ아의 글자의 갯수는 3개 입니다.\n"
          ]
        }
      ]
    },
    {
      "cell_type": "code",
      "source": [
        "# [1,2,3,4,5,6,7,8,9] 의 3번쨰 요소부터  7번쨰 요소만 추출한 결과에서 2번쨰 요소를 출력하는 프로그램을 구현\n",
        "\n",
        "num = [1,2,3,4,5,6,7,8,9]\n",
        "a = num[2:7]\n",
        "print(f'{a}에서 2번째 요소는 {a[1]} 입니다.')"
      ],
      "metadata": {
        "colab": {
          "base_uri": "https://localhost:8080/"
        },
        "id": "eiemRlxFHpXe",
        "outputId": "f4cd1b3a-ee7f-4522-ed31-a6b57eeb4865"
      },
      "execution_count": 60,
      "outputs": [
        {
          "output_type": "stream",
          "name": "stdout",
          "text": [
            "[3, 4, 5, 6, 7]에서 2번째 요소는 4 입니다.\n"
          ]
        }
      ]
    },
    {
      "cell_type": "code",
      "source": [
        "if True:\n",
        "  print('만족')\n",
        "else:\n",
        "  print('불만족')"
      ],
      "metadata": {
        "id": "U-mKDRiPI49V"
      },
      "execution_count": null,
      "outputs": []
    },
    {
      "cell_type": "code",
      "source": [
        "age = int(input('나이를 입력하세요>>'))\n",
        "\n",
        "if age >= 20:\n",
        "  print(f'나이가 {age}인 당신은 성인입니다.')\n",
        "elif age <=12:\n",
        "  print(f'나이가{age}인 당신은 유년기입니다.')\n",
        "else :\n",
        "  print(f'나이가 {age}인 당신은 청소년입니다.')"
      ],
      "metadata": {
        "colab": {
          "base_uri": "https://localhost:8080/"
        },
        "id": "uDzufOIcO39o",
        "outputId": "dadf1a19-8ecc-4ad9-b635-073586df9565"
      },
      "execution_count": 59,
      "outputs": [
        {
          "output_type": "stream",
          "name": "stdout",
          "text": [
            "나이를 입력하세요>>34\n",
            "나이가 34인 당신은 성인입니다.\n"
          ]
        }
      ]
    },
    {
      "cell_type": "code",
      "source": [
        "#입력) 당신의 점수를 입력하세요>>>95\n",
        "#출력) 당신의 점수는 95점이고 학점은 A 입니다.\n",
        "\n",
        "sc = int(input('당신의 점수를 입력하세요 : '))\n",
        "gr = \"\"\n",
        "if sc >90:\n",
        "  gr = \"A\"\n",
        "elif sc >=80:\n",
        "  gr = \"B\"\n",
        "elif sc >=70:\n",
        "  gr = \"C\"\n",
        "elif sc >=60:\n",
        "  gr = \"D\"\n",
        "else :\n",
        "  gr = \"F\"\n",
        "print(f'당신의 점수는 {sc}이고 학점은 {gr} 입니다.')"
      ],
      "metadata": {
        "colab": {
          "base_uri": "https://localhost:8080/"
        },
        "id": "OdZHNh2CRnkw",
        "outputId": "b028fbee-bcd0-42fb-feb2-0f96d1ceaba0"
      },
      "execution_count": 64,
      "outputs": [
        {
          "output_type": "stream",
          "name": "stdout",
          "text": [
            "당신의 점수를 입력하세요 : 55\n",
            "당신의 점수는 55이고 학점은 F 입니다.\n"
          ]
        }
      ]
    },
    {
      "cell_type": "code",
      "source": [
        "#임의의 정수를 입력받아서 그 수가 3의 배수인지를 확이하는 프로그램을 작성하세요.\n",
        "\n",
        "num = int(input('정수를 입력하세요 : '))\n",
        "w = \"\"\n",
        "if num%3 !=0:\n",
        "  w = \"가 아닙니다.\"\n",
        "else :\n",
        "  w = \"입니다.\"\n",
        "print(f'{num}은 3의 배수가 {w}')"
      ],
      "metadata": {
        "id": "1TkoQyGJUAUl"
      },
      "execution_count": null,
      "outputs": []
    },
    {
      "cell_type": "code",
      "source": [
        "#정수 3개를 입력받아서 그 중엣더 가장 큰 수를 출력하기\n",
        "n1 = int(input('첫번째정수를 입력하세요 : '))\n",
        "n2 = int(input('두번째정수를 입력하세요 : '))\n",
        "n3 = int(input('세번째정수를 입력하세요 : '))\n",
        "a=0\n",
        "if n1>n2 and n1>n3:\n",
        "  a=n1\n",
        "elif n2>n3 and n2>n1:\n",
        "  a=n2\n",
        "elif n2<n3 and n3>n1:\n",
        "  a=n3\n",
        "print(f'3개중 가장 큰 수는 {a} 입니다.')"
      ],
      "metadata": {
        "colab": {
          "base_uri": "https://localhost:8080/"
        },
        "id": "B9KjoqFcVBrg",
        "outputId": "9e33278b-b35d-4012-be4f-9cc64dac1327"
      },
      "execution_count": 73,
      "outputs": [
        {
          "output_type": "stream",
          "name": "stdout",
          "text": [
            "첫번째정수를 입력하세요 : 9\n",
            "두번째정수를 입력하세요 : 3\n",
            "세번째정수를 입력하세요 : 10\n",
            "3개중 가장 큰 수는 10 입니다.\n"
          ]
        }
      ]
    }
  ]
}