{
  "nbformat": 4,
  "nbformat_minor": 0,
  "metadata": {
    "colab": {
      "name": "Day2.ipynb",
      "provenance": [],
      "authorship_tag": "ABX9TyMBTan7Qi97T5+lnYdxsm2n",
      "include_colab_link": true
    },
    "kernelspec": {
      "name": "python3",
      "display_name": "Python 3"
    },
    "language_info": {
      "name": "python"
    }
  },
  "cells": [
    {
      "cell_type": "markdown",
      "metadata": {
        "id": "view-in-github",
        "colab_type": "text"
      },
      "source": [
        "<a href=\"https://colab.research.google.com/github/dlwodbeld/ai/blob/main/Day2.ipynb\" target=\"_parent\"><img src=\"https://colab.research.google.com/assets/colab-badge.svg\" alt=\"Open In Colab\"/></a>"
      ]
    },
    {
      "cell_type": "code",
      "execution_count": 4,
      "metadata": {
        "colab": {
          "base_uri": "https://localhost:8080/"
        },
        "id": "llwHLpkvt8Zy",
        "outputId": "f5c4af80-e189-4e1c-e9cc-a18fa1c73da8"
      },
      "outputs": [
        {
          "output_type": "stream",
          "name": "stdout",
          "text": [
            "r\n",
            "d\n",
            "d\n"
          ]
        }
      ],
      "source": [
        "s = 'world'\n",
        "print(s[2]) #파이선은 인덱스 시작이 0이다.\n",
        "print(s[-1]) #-1은 마지막 인덱스를 가리킨다.\n",
        "print(s[4])"
      ]
    },
    {
      "cell_type": "code",
      "source": [
        "list = [1,2,3,4,5]\n",
        "print(list)\n",
        "print(list[1])\n",
        "print(list[1:3])\n",
        "list[3] = 30\n",
        "print(list)"
      ],
      "metadata": {
        "colab": {
          "base_uri": "https://localhost:8080/"
        },
        "id": "jNqSgsKF-M9q",
        "outputId": "29d92205-3e95-405b-d14b-e7ce3e0ea687"
      },
      "execution_count": 11,
      "outputs": [
        {
          "output_type": "stream",
          "name": "stdout",
          "text": [
            "[1, 2, 3, 4, 5]\n",
            "2\n",
            "[2, 3]\n",
            "[1, 2, 3, 30, 5]\n"
          ]
        }
      ]
    },
    {
      "cell_type": "code",
      "source": [
        "list1 = [1,2,3,4,5,6,7,8,9]\n",
        "list2 = [10,20,30]\n",
        "list_a = list1\n",
        "list_b = list2\n",
        "print(list_a,list_b)\n",
        "print(list_a+list_b)\n",
        "#연산\n",
        "print(list_a*2)\n",
        "print(list_a[2]*list_b[1])\n",
        "#.insert()/.extend()\n",
        "list1.insert(0,90)\n",
        "list1.extend([8,9])\n",
        "print(list1)\n",
        "#del()\n",
        "del list1[2] #list1에서 3번째꺼 제거\n",
        "print(list1)\n",
        "del list1[4:6]#4번부터 6번 미만까지\n",
        "print(list1)\n",
        "del list2[:]#생략하면 처음 : 생략하면 끝\n",
        "#.pop()\n",
        "list1.pop()\n",
        "print(list1)\n",
        "#.remove() 값으로 삭제\n",
        "list1.remove(8)\n",
        "print(list1)\n",
        "list1.remove(8)\n",
        "print(list1)\n",
        "#.clear() 리스트 요소를 전부 한번에 삭제\n",
        "list1.clear()\n",
        "list1.extend([1000])\n",
        "print(list1)\n",
        "#in / not in  리스트에 존재하는 요소인지를 확인\n",
        "print(1000 in list1)\n",
        "print(300 in list1)\n",
        "print(300 not in list1)\n",
        "print(1000 not in list1)"
      ],
      "metadata": {
        "colab": {
          "base_uri": "https://localhost:8080/"
        },
        "id": "yRyVwTalEVM2",
        "outputId": "454325fb-cba7-47eb-b501-a9eb4cf35086"
      },
      "execution_count": 33,
      "outputs": [
        {
          "output_type": "stream",
          "name": "stdout",
          "text": [
            "[1, 2, 3, 4, 5, 6, 7, 8, 9] [10, 20, 30]\n",
            "[1, 2, 3, 4, 5, 6, 7, 8, 9, 10, 20, 30]\n",
            "[1, 2, 3, 4, 5, 6, 7, 8, 9, 1, 2, 3, 4, 5, 6, 7, 8, 9]\n",
            "60\n",
            "[90, 1, 2, 3, 4, 5, 6, 7, 8, 9, 8, 9]\n",
            "[90, 1, 3, 4, 5, 6, 7, 8, 9, 8, 9]\n",
            "[90, 1, 3, 4, 7, 8, 9, 8, 9]\n",
            "[90, 1, 3, 4, 7, 8, 9, 8]\n",
            "[90, 1, 3, 4, 7, 9, 8]\n",
            "[90, 1, 3, 4, 7, 9]\n",
            "[1000]\n",
            "True\n",
            "False\n",
            "True\n",
            "False\n"
          ]
        }
      ]
    }
  ]
}