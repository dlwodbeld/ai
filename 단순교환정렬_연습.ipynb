{
  "nbformat": 4,
  "nbformat_minor": 0,
  "metadata": {
    "colab": {
      "name": "Untitled1.ipynb",
      "provenance": [],
      "authorship_tag": "ABX9TyPzIA68z/3f+4x/fd12MBkB",
      "include_colab_link": true
    },
    "kernelspec": {
      "name": "python3",
      "display_name": "Python 3"
    },
    "language_info": {
      "name": "python"
    }
  },
  "cells": [
    {
      "cell_type": "markdown",
      "metadata": {
        "id": "view-in-github",
        "colab_type": "text"
      },
      "source": [
        "<a href=\"https://colab.research.google.com/github/dlwodbeld/ai/blob/main/%EB%8B%A8%EC%88%9C%EA%B5%90%ED%99%98%EC%A0%95%EB%A0%AC_%EC%97%B0%EC%8A%B5.ipynb\" target=\"_parent\"><img src=\"https://colab.research.google.com/assets/colab-badge.svg\" alt=\"Open In Colab\"/></a>"
      ]
    },
    {
      "cell_type": "code",
      "execution_count": 10,
      "metadata": {
        "colab": {
          "base_uri": "https://localhost:8080/"
        },
        "id": "0d9NY1z70o-p",
        "outputId": "5e6f8078-3ae3-46ae-bdf7-c3c51fae5f6c"
      },
      "outputs": [
        {
          "output_type": "stream",
          "name": "stdout",
          "text": [
            "[2, 4, 3, 1, 5]\n",
            "[2, 3, 1, 4, 5]\n",
            "[2, 1, 3, 4, 5]\n",
            "[1, 2, 3, 4, 5]\n",
            "[1, 2, 3, 4, 5]\n",
            "최종 :  [1, 2, 3, 4, 5]\n"
          ]
        }
      ],
      "source": [
        "#단순교환정렬\n",
        "# 0 1 2 3 4 index\n",
        "# 5 2 4 3 1 data\n",
        "# 1 2 3 4 5 가 나오게 해야한다.\n",
        "\n",
        "arr = [5,2,4,3,1]    #data입력\n",
        "for i in range(len(arr)):     # 5번 반복하는 for문\n",
        "  for n in range(0,len(arr)-i-1): #i값이 1~4까지는 계속해서 돌린다..\n",
        "    if arr[n] > arr[n+1]:   # n값이 n+1보다 크면\n",
        "      m = arr[n]\n",
        "      arr[n] = arr[n+1]     # 위치를 바꿔준다.\n",
        "      arr[n+1] = m\n",
        "  print(arr)          #바뀐 data를 출력.\n",
        "      \n",
        "print(\"최종 : \",arr)    #최종적으로 배치된 걸 출력.\n"
      ]
    },
    {
      "cell_type": "code",
      "source": [
        "#단순 선택 정렬"
      ],
      "metadata": {
        "id": "aNw4yJF73B8g"
      },
      "execution_count": null,
      "outputs": []
    }
  ]
}