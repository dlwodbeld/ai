{
  "nbformat": 4,
  "nbformat_minor": 0,
  "metadata": {
    "colab": {
      "name": "Day12-1.ipynb",
      "provenance": [],
      "authorship_tag": "ABX9TyNTSeC1XVMbn+tT0MM1AtrD",
      "include_colab_link": true
    },
    "kernelspec": {
      "name": "python3",
      "display_name": "Python 3"
    },
    "language_info": {
      "name": "python"
    }
  },
  "cells": [
    {
      "cell_type": "markdown",
      "metadata": {
        "id": "view-in-github",
        "colab_type": "text"
      },
      "source": [
        "<a href=\"https://colab.research.google.com/github/dlwodbeld/ai/blob/main/Day12_1.ipynb\" target=\"_parent\"><img src=\"https://colab.research.google.com/assets/colab-badge.svg\" alt=\"Open In Colab\"/></a>"
      ]
    },
    {
      "cell_type": "code",
      "execution_count": 2,
      "metadata": {
        "colab": {
          "base_uri": "https://localhost:8080/"
        },
        "id": "36Mfx8nW6yxr",
        "outputId": "384cabf1-54f5-40ff-f91c-813c329e2ea5"
      },
      "outputs": [
        {
          "output_type": "stream",
          "name": "stdout",
          "text": [
            "3.14\n"
          ]
        }
      ],
      "source": [
        "# Maths\n",
        "\n",
        "num = 3.141592\n",
        "print(round(num,2)) #display a number rounded to two decimal places."
      ]
    },
    {
      "cell_type": "code",
      "source": [
        "10**2\n",
        "# To the power of ..."
      ],
      "metadata": {
        "colab": {
          "base_uri": "https://localhost:8080/"
        },
        "id": "UXi_5Exo7L1C",
        "outputId": "683aba65-8eea-43d3-9640-e5a67163bd9a"
      },
      "execution_count": 3,
      "outputs": [
        {
          "output_type": "execute_result",
          "data": {
            "text/plain": [
              "100"
            ]
          },
          "metadata": {},
          "execution_count": 3
        }
      ]
    },
    {
      "cell_type": "code",
      "source": [
        "import math\n",
        "\n",
        "math.sqrt(100)\n",
        "\n",
        "#The square root of a number but you must have the line import math\n",
        "# at the top of your program for  this to work."
      ],
      "metadata": {
        "colab": {
          "base_uri": "https://localhost:8080/"
        },
        "id": "16jLauwB7V5S",
        "outputId": "cbdf20fb-e69e-4917-9e1a-37eac5d3ceaa"
      },
      "execution_count": 4,
      "outputs": [
        {
          "output_type": "execute_result",
          "data": {
            "text/plain": [
              "10.0"
            ]
          },
          "metadata": {},
          "execution_count": 4
        }
      ]
    },
    {
      "cell_type": "code",
      "source": [
        "math.pi\n",
        "\n",
        "#Gives you pi to decimal places, but you must have the line ' import math'"
      ],
      "metadata": {
        "colab": {
          "base_uri": "https://localhost:8080/"
        },
        "id": "KPpfGexe72aA",
        "outputId": "87988479-6d16-4e87-c648-7e11c2807115"
      },
      "execution_count": 6,
      "outputs": [
        {
          "output_type": "execute_result",
          "data": {
            "text/plain": [
              "3.141592653589793"
            ]
          },
          "metadata": {},
          "execution_count": 6
        }
      ]
    },
    {
      "cell_type": "code",
      "source": [
        "15//2\n",
        "#wohle number division. 15//2 gives the answer 7."
      ],
      "metadata": {
        "colab": {
          "base_uri": "https://localhost:8080/"
        },
        "id": "ROd7lnEL8KDR",
        "outputId": "538e9846-28b9-408b-ff6f-0196cdcf32b5"
      },
      "execution_count": 7,
      "outputs": [
        {
          "output_type": "execute_result",
          "data": {
            "text/plain": [
              "7"
            ]
          },
          "metadata": {},
          "execution_count": 7
        }
      ]
    },
    {
      "cell_type": "code",
      "source": [
        "15%2\n",
        "#Finds the remainder. 15%2 gives the answer1"
      ],
      "metadata": {
        "colab": {
          "base_uri": "https://localhost:8080/"
        },
        "id": "CptUIjb18XEm",
        "outputId": "9d0979d1-887f-4c63-dde0-4df21cd47a0a"
      },
      "execution_count": 8,
      "outputs": [
        {
          "output_type": "execute_result",
          "data": {
            "text/plain": [
              "1"
            ]
          },
          "metadata": {},
          "execution_count": 8
        }
      ]
    },
    {
      "cell_type": "code",
      "source": [
        "#Ask the user to enteran integer that is over 500.Work out the square root of that number and display it to two decimal places.\n",
        "\n",
        "# (input) 'Enter a number over 500:'\n",
        "import math\n",
        "a = int(input('Etner a number over 500 :'))\n",
        "\n",
        "ans = math.sqrt(a)\n",
        "\n",
        "print(round(ans,2))"
      ],
      "metadata": {
        "colab": {
          "base_uri": "https://localhost:8080/"
        },
        "id": "y_mwHuqT8n7K",
        "outputId": "23abb5be-19f5-45dd-fb8a-b370e2b9b821"
      },
      "execution_count": 9,
      "outputs": [
        {
          "output_type": "stream",
          "name": "stdout",
          "text": [
            "Etner a number over 500 :550\n",
            "23.45\n"
          ]
        }
      ]
    },
    {
      "cell_type": "code",
      "source": [
        "# Ask the user to enter the radius of a circle.\n",
        "#Work out the area of the circle. (pi * radius**2)\n",
        "#(input) 'Enter the radius of the circle'\n",
        "b = int(input('Enter the radius of the circle : '))\n",
        "\n",
        "sed = math.pi*b**2\n",
        "print(sed)"
      ],
      "metadata": {
        "colab": {
          "base_uri": "https://localhost:8080/"
        },
        "id": "JNzQVrBz9_3A",
        "outputId": "06ee554f-94bf-4403-8020-ac9944af6932"
      },
      "execution_count": 10,
      "outputs": [
        {
          "output_type": "stream",
          "name": "stdout",
          "text": [
            "Enter the radius of the circle : 5\n",
            "78.53981633974483\n"
          ]
        }
      ]
    },
    {
      "cell_type": "code",
      "source": [
        "#Ask the user to enter two numbers. Use whole number division to divide\n",
        "#the first number by the second and also work out the remainder and display the answer in a user-friendly way...\n",
        "#if they enter 7 and 2 display '7 divided by 2 is 3 with 1 remaining'\n",
        "\n",
        "c = int(input('Enter a first number : '))\n",
        "d = int(input('Enter a first number : '))\n",
        "\n",
        "el = c//d\n",
        "al = c%d\n",
        "\n",
        "print(f'{c}divided by {d} is {el} with {al} remaining')\n"
      ],
      "metadata": {
        "colab": {
          "base_uri": "https://localhost:8080/"
        },
        "id": "sVwJwqUF-75Q",
        "outputId": "082bfab2-809f-443d-cc8b-3ec154e2cba3"
      },
      "execution_count": 13,
      "outputs": [
        {
          "output_type": "stream",
          "name": "stdout",
          "text": [
            "Enter a first number : 7\n",
            "Enter a first number : 2\n",
            "7divided by 2 is 3with 1 remaining\n"
          ]
        }
      ]
    },
    {
      "cell_type": "code",
      "source": [
        "# Display the following message:\n",
        "#1) Square\n",
        "#2) Triangle\n",
        "# Enter a number :\n",
        "\n",
        "#if the user enters 1, then it should ask them for the length of one of its sides and display the area.\n",
        "#If they select 2, it should ask for the base and height of the triangle and display the area.\n",
        "#If they type in anything else, it should give them a suitable error message.\n",
        "print('!)Square')\n",
        "print('2)Triangle')\n",
        "print()\n",
        "a = int(input('Enter a number : '))\n",
        "\n",
        "if a == 1:\n",
        "  side = int(input('Enter the length of one side : '))\n",
        "  area = side * side\n",
        "  print('The area of your chosen chape is ',area)\n",
        "elif a ==2:\n",
        "  base = int(input('Enter the length of one side : ')) \n",
        "  height = int(input('Enter the height of one side : '))\n",
        "  area = (base * height)/2\n",
        "  print('The area of your chosen chape is ',area)\n",
        "else:\n",
        "  print('Incoorent option selected')"
      ],
      "metadata": {
        "colab": {
          "base_uri": "https://localhost:8080/"
        },
        "id": "ibsohkWyADiV",
        "outputId": "442fc3c0-4858-40f1-e981-c913dbdfdeff"
      },
      "execution_count": 15,
      "outputs": [
        {
          "output_type": "stream",
          "name": "stdout",
          "text": [
            "!)Square\n",
            "2)Triangle\n",
            "\n",
            "Enter a number : 2\n",
            "Enter the length of one side : 9\n",
            "Enter the height of one side : 3\n",
            "The area of your chosen chape is  13.5\n"
          ]
        }
      ]
    },
    {
      "cell_type": "code",
      "source": [
        "###For\n",
        "\n",
        "# the range function is often used in for loops and lists the starting number.\n",
        "#the ending number and can also include the steps\n",
        "\n",
        "#for i in range(strt,stop,step)\n",
        "\n",
        "for i in range(0,5):\n",
        "  print(i)"
      ],
      "metadata": {
        "colab": {
          "base_uri": "https://localhost:8080/"
        },
        "id": "g5yvrpJwD7II",
        "outputId": "7f2bde93-9421-440d-837b-b5467683c925"
      },
      "execution_count": 19,
      "outputs": [
        {
          "output_type": "stream",
          "name": "stdout",
          "text": [
            "0\n",
            "1\n",
            "2\n",
            "3\n",
            "4\n"
          ]
        }
      ]
    },
    {
      "cell_type": "code",
      "source": [
        "for i in range(0,5,1):\n",
        "  print(i)"
      ],
      "metadata": {
        "colab": {
          "base_uri": "https://localhost:8080/"
        },
        "id": "JrhT44foJK20",
        "outputId": "f7923ded-5b69-42d7-8da0-a6cec19e4180"
      },
      "execution_count": 20,
      "outputs": [
        {
          "output_type": "stream",
          "name": "stdout",
          "text": [
            "0\n",
            "1\n",
            "2\n",
            "3\n",
            "4\n"
          ]
        }
      ]
    },
    {
      "cell_type": "code",
      "source": [
        "for i in range(5):\n",
        "  print(i)"
      ],
      "metadata": {
        "colab": {
          "base_uri": "https://localhost:8080/"
        },
        "id": "_2NLyFxXJTVO",
        "outputId": "be6bec62-996c-4712-9775-90127fc55573"
      },
      "execution_count": 21,
      "outputs": [
        {
          "output_type": "stream",
          "name": "stdout",
          "text": [
            "0\n",
            "1\n",
            "2\n",
            "3\n",
            "4\n"
          ]
        }
      ]
    },
    {
      "cell_type": "code",
      "source": [
        "for i in range(10,1,-3):\n",
        "  print(i)"
      ],
      "metadata": {
        "colab": {
          "base_uri": "https://localhost:8080/"
        },
        "id": "vNjdSdZzJVtQ",
        "outputId": "11641f66-2980-46bf-cfd6-dd135b48ac87"
      },
      "execution_count": 22,
      "outputs": [
        {
          "output_type": "stream",
          "name": "stdout",
          "text": [
            "10\n",
            "7\n",
            "4\n"
          ]
        }
      ]
    },
    {
      "cell_type": "code",
      "source": [
        "no = [0,1,2,3,4]\n",
        "\n",
        "for i in no:\n",
        "  print(i)"
      ],
      "metadata": {
        "colab": {
          "base_uri": "https://localhost:8080/"
        },
        "id": "anhxqepbJfoD",
        "outputId": "0ad0f780-bcb5-4645-c1d6-e10209df85cd"
      },
      "execution_count": 23,
      "outputs": [
        {
          "output_type": "stream",
          "name": "stdout",
          "text": [
            "0\n",
            "1\n",
            "2\n",
            "3\n",
            "4\n"
          ]
        }
      ]
    },
    {
      "cell_type": "code",
      "source": [
        "#Ask the user to enter their name and then display their name three times.\n",
        "\n",
        "#Alter program, so that it will ask the user to enter their name and number\n",
        "#and then display their name that number.\n",
        "\n",
        "n = input(\"what is your name : \")\n",
        "num = int(input('how many?? : '))\n",
        "print(n)\n",
        "\n",
        "for i in  range(num-1):\n",
        "  print(n)"
      ],
      "metadata": {
        "colab": {
          "base_uri": "https://localhost:8080/"
        },
        "id": "Uwah5gvJKF2e",
        "outputId": "151eae8a-e0b3-4807-fdd6-d30005f0faa4"
      },
      "execution_count": 25,
      "outputs": [
        {
          "output_type": "stream",
          "name": "stdout",
          "text": [
            "what is your name : ddaa\n",
            "how many?? : 4\n",
            "ddaa\n",
            "ddaa\n",
            "ddaa\n",
            "ddaa\n"
          ]
        }
      ]
    },
    {
      "cell_type": "code",
      "source": [
        "#ask the user to enter their name and display each letter in their name on a separate line.\n",
        "\n",
        "name = input('YOur name :')\n",
        "\n",
        "for i in name:\n",
        "  print(i)"
      ],
      "metadata": {
        "colab": {
          "base_uri": "https://localhost:8080/"
        },
        "id": "eT47dCXHLvWz",
        "outputId": "e7a3d921-4168-436e-ba86-a1a6dd36abfa"
      },
      "execution_count": 26,
      "outputs": [
        {
          "output_type": "stream",
          "name": "stdout",
          "text": [
            "YOur name :holden\n",
            "h\n",
            "o\n",
            "l\n",
            "d\n",
            "e\n",
            "n\n"
          ]
        }
      ]
    },
    {
      "cell_type": "code",
      "source": [
        "#Ask for a number below 50 and then count down from 50 to that number.\n",
        "#making sure you show the number they entered in the output.\n",
        "\n",
        "#50 미만의 수를 입력받아 50부터 거꾸로 카운다운하면서 숫자를 츨력한다.\n",
        "#입력한 숫자까지 출력하자.\n",
        "no = int(input('Etner the number : '))\n",
        "for i in range(50,no-1,-1):\n",
        "  print(i)"
      ],
      "metadata": {
        "colab": {
          "base_uri": "https://localhost:8080/"
        },
        "id": "ZeytB115Mx4B",
        "outputId": "f8bb65dd-ee72-4f19-b081-3f0f3e549ada"
      },
      "execution_count": 27,
      "outputs": [
        {
          "output_type": "stream",
          "name": "stdout",
          "text": [
            "Etner the number : 45\n",
            "50\n",
            "49\n",
            "48\n",
            "47\n",
            "46\n",
            "45\n"
          ]
        }
      ]
    },
    {
      "cell_type": "code",
      "source": [
        "#Set a variable called total to 0.\n",
        "#Ask the user to enter five numbers and after each\n",
        "#input ask them if they want that number included.\n",
        "#If they do. then add the number to the total.\n",
        "#After they have entered all five number. dislpay the total.\n",
        "total = 0\n",
        "for i in range(5):\n",
        "  a = int(input('Add number : '))\n",
        "  b = input('Do you wnat this number included? (y/n)')\n",
        "  if b == 'y':\n",
        "    total = total + a\n",
        "  elif b == n:\n",
        "    continue\n",
        "print(total)"
      ],
      "metadata": {
        "colab": {
          "base_uri": "https://localhost:8080/"
        },
        "id": "MG0oa8JgOcyE",
        "outputId": "c246f6e2-bef5-41b0-cd81-c8184b03a93f"
      },
      "execution_count": 35,
      "outputs": [
        {
          "output_type": "stream",
          "name": "stdout",
          "text": [
            "Add number : 5\n",
            "Do you wnat this number included? (y/n)y\n",
            "Add number : 3\n",
            "Do you wnat this number included? (y/n)y\n",
            "Add number : 7\n",
            "Do you wnat this number included? (y/n)n\n",
            "Add number : 9\n",
            "Do you wnat this number included? (y/n)y\n",
            "Add number : 2\n",
            "Do you wnat this number included? (y/n)n\n",
            "17\n"
          ]
        }
      ]
    },
    {
      "cell_type": "code",
      "source": [
        "#ask which direction the user wants to count(up or down)\n",
        "#if they select up, then ask them for the top number and then count from 1 to that number.\n",
        "#If they select down, ask them to enter a number below 20 and then count down from 20 to that number.\n",
        "#If they entered something other than up or down.\n",
        "#display the message i don`t understand.\n",
        "\n",
        "#사용자가 원하는 카운트 방향(위로 또는 아래로)을 묻고 만약 up을 선택하면 큰 수를 묻고 1부터 그 수까지 출력한다.\n",
        "#만약 down을 선택하면 20미만으수를 묻고 20부터 그 수까지를 출력한다.\n",
        "#업 또는 다운이 아닌것을 선택하면 'i don`t understand'를 출력한다.\n",
        "\n",
        "direction = input('Do you wnat to count up or down(u/d)')\n",
        "\n",
        "if direction == 'u':\n",
        "  num = int(input('what i the top number : '))\n",
        "  for i in range(1,num+1):\n",
        "    print(i)\n",
        "elif direction == 'd':\n",
        "  num = int(input('Enter a number below 20 : '))\n",
        "  for i in range(20,num-1,-1):\n",
        "    print(i)\n",
        "else:\n",
        "  print('I don`t understand')\n"
      ],
      "metadata": {
        "colab": {
          "base_uri": "https://localhost:8080/"
        },
        "id": "UaQAS7MJVYqg",
        "outputId": "de1aca32-8ca7-4feb-f908-52bb88ae854c"
      },
      "execution_count": 36,
      "outputs": [
        {
          "output_type": "stream",
          "name": "stdout",
          "text": [
            "Do you wnat to count up or down(u/d)u\n",
            "what i the top number : 30\n",
            "1\n",
            "2\n",
            "3\n",
            "4\n",
            "5\n",
            "6\n",
            "7\n",
            "8\n",
            "9\n",
            "10\n",
            "11\n",
            "12\n",
            "13\n",
            "14\n",
            "15\n",
            "16\n",
            "17\n",
            "18\n",
            "19\n",
            "20\n",
            "21\n",
            "22\n",
            "23\n",
            "24\n",
            "25\n",
            "26\n",
            "27\n",
            "28\n",
            "29\n",
            "30\n"
          ]
        }
      ]
    },
    {
      "cell_type": "code",
      "source": [
        "#Ask how many people the user wants to invite to a party.\n",
        "#If they enter a number below 10, ask for the names and after each name display'[name] has been invited.'\n",
        "# If they enter a number which is 10 or highter, display the message ' Too many people'\n",
        "\n",
        "#파티에 몇명을 초대할지 묻자.\n",
        "#만약 10미만으로 입력하면 그 숫자만큼 이름을 묻고  '[name] has been invited'를 출력한다.\n",
        "#만약 10 이상으로 입력하면 'Too many people'을 출력한다.\n",
        "\n",
        "no = int(input('How many : '))\n",
        "\n",
        "if no < 10:\n",
        "  name = input('Name ?? : ')\n",
        "  print(name,' has been invited.')\n",
        "else:\n",
        "  print('Too many people.')"
      ],
      "metadata": {
        "colab": {
          "base_uri": "https://localhost:8080/"
        },
        "id": "mEKms7GyY69G",
        "outputId": "590e00d7-93dc-4ca5-a59d-007bb15baadd"
      },
      "execution_count": 37,
      "outputs": [
        {
          "output_type": "stream",
          "name": "stdout",
          "text": [
            "How many : 30\n",
            "Too many people.\n"
          ]
        }
      ]
    },
    {
      "cell_type": "code",
      "source": [
        "###while\n",
        "#A while loop allows code to berepeted an unknown numver of times as long as a condition is being met.\n",
        "#This my be 100times. just the once or even never\n",
        "#it is important, therefore, to make sure the correct conditions are in place\n",
        "#to run the roop before it starts.\n",
        "\n",
        "total = 0\n",
        "while total < 100:\n",
        "  num = int(input('Enter the number : '))\n",
        "  total = total + num\n",
        "print('The total is ', total)"
      ],
      "metadata": {
        "colab": {
          "base_uri": "https://localhost:8080/"
        },
        "id": "iRzSImnGb4Xk",
        "outputId": "0b11d208-9ea5-420d-b584-990cc204aed7"
      },
      "execution_count": 38,
      "outputs": [
        {
          "output_type": "stream",
          "name": "stdout",
          "text": [
            "Enter the number : 4\n",
            "Enter the number : 9\n",
            "Enter the number : 90\n",
            "The total is  103\n"
          ]
        }
      ]
    },
    {
      "cell_type": "code",
      "source": [
        "# set the total to 0 to start with. While the total is 50 or less.\n",
        "# ask the user to input a number. Add that number to the total and print the message 'The total is...[total].\n",
        "#Stop the loop when the total is over 50.\n",
        "\n",
        "total = 0\n",
        "while total <= 50:\n",
        "  no = int(input('number??  :  '))\n",
        "  total += no\n",
        "print('The total is....  ',total-no)\n"
      ],
      "metadata": {
        "id": "XUKlz1gxcNkR"
      },
      "execution_count": null,
      "outputs": []
    }
  ]
}