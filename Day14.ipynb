{
  "nbformat": 4,
  "nbformat_minor": 0,
  "metadata": {
    "colab": {
      "name": "Day14.ipynb",
      "provenance": [],
      "collapsed_sections": [],
      "authorship_tag": "ABX9TyPZs2Vc7WWNXb+7g7hijYGC",
      "include_colab_link": true
    },
    "kernelspec": {
      "name": "python3",
      "display_name": "Python 3"
    },
    "language_info": {
      "name": "python"
    }
  },
  "cells": [
    {
      "cell_type": "markdown",
      "metadata": {
        "id": "view-in-github",
        "colab_type": "text"
      },
      "source": [
        "<a href=\"https://colab.research.google.com/github/dlwodbeld/ai/blob/main/Day14.ipynb\" target=\"_parent\"><img src=\"https://colab.research.google.com/assets/colab-badge.svg\" alt=\"Open In Colab\"/></a>"
      ]
    },
    {
      "cell_type": "code",
      "execution_count": null,
      "metadata": {
        "id": "C6mOXi7xJjLp"
      },
      "outputs": [],
      "source": [
        "#영화순위를 나열하기\n",
        "\n",
        "import requests   #웹상에서 인터넷 연결\n",
        "from bs4 import BeautifulSoup as bs #데이터 정제\n",
        "import pandas as pd     #데이터 분석\n",
        "\n",
        "\n",
        "html = requests.get('https://movie.naver.com/movie/sdb/rank/rmovie.naver')\n",
        "soup = bs(html.text)\n",
        "\n",
        "len(soup.select('tr'))\n",
        "\n",
        "len(soup.select('td.title'))\n",
        "\n",
        "movies = soup.select('td.title')\n",
        "movies[0].text.strip()\n",
        "\"\"\"while True:\n",
        "  a = 1\n",
        "  movies[a].text.strip()\n",
        "\n",
        "  if a == 1:\n",
        "    a += 1\n",
        "  elif a == 50:\n",
        "    movies[a].text.strip()\n",
        "    break\"\"\"\n",
        "#스타벅스  "
      ]
    },
    {
      "cell_type": "code",
      "source": [
        "# 네이버 영화 순위 \n",
        "\n",
        "import requests                      # 웹상에서 인터넷 연결\n",
        "from bs4 import BeautifulSoup as bs  # 데이터 정제\n",
        "import pandas as pd                  # 데이터 분석 \n"
      ],
      "metadata": {
        "id": "jHe9O6Y9Uz2g"
      },
      "execution_count": null,
      "outputs": []
    },
    {
      "cell_type": "code",
      "source": [
        "html = requests.get('https://movie.naver.com/movie/sdb/rank/rmovie.naver?sel=cur&date=20220217')\n",
        "soup = bs(html.text)"
      ],
      "metadata": {
        "id": "TkQdQNyeOEfi"
      },
      "execution_count": 6,
      "outputs": []
    },
    {
      "cell_type": "code",
      "source": [
        "len(soup.select('tr'))"
      ],
      "metadata": {
        "colab": {
          "base_uri": "https://localhost:8080/"
        },
        "id": "azuARrzGVNd2",
        "outputId": "0aaa31c2-10e0-4302-f935-34d3b02476e7"
      },
      "execution_count": 7,
      "outputs": [
        {
          "output_type": "execute_result",
          "data": {
            "text/plain": [
              "34"
            ]
          },
          "metadata": {},
          "execution_count": 7
        }
      ]
    },
    {
      "cell_type": "code",
      "source": [
        "len(soup.select('td.title'))"
      ],
      "metadata": {
        "colab": {
          "base_uri": "https://localhost:8080/"
        },
        "id": "Mk9yKXYtVPqi",
        "outputId": "aef5a537-d3b9-4eff-e19e-f908a0b4f04e"
      },
      "execution_count": 8,
      "outputs": [
        {
          "output_type": "execute_result",
          "data": {
            "text/plain": [
              "27"
            ]
          },
          "metadata": {},
          "execution_count": 8
        }
      ]
    },
    {
      "cell_type": "code",
      "source": [
        "movies = soup.select('td.title')"
      ],
      "metadata": {
        "id": "Sg1ybEdfVTb2"
      },
      "execution_count": 9,
      "outputs": []
    },
    {
      "cell_type": "code",
      "source": [
        "movies[0]"
      ],
      "metadata": {
        "colab": {
          "base_uri": "https://localhost:8080/"
        },
        "id": "Hxu9ZlA0VVgE",
        "outputId": "6e4f1177-ad2d-4f02-998f-eb8eb3abd841"
      },
      "execution_count": 10,
      "outputs": [
        {
          "output_type": "execute_result",
          "data": {
            "text/plain": [
              "<td class=\"title\">\n",
              "<div class=\"tit5\">\n",
              "<a href=\"/movie/bi/mi/basic.naver?code=151196\" title=\"원더\">원더</a>\n",
              "</div>\n",
              "</td>"
            ]
          },
          "metadata": {},
          "execution_count": 10
        }
      ]
    },
    {
      "cell_type": "code",
      "source": [
        "movies[0].text"
      ],
      "metadata": {
        "colab": {
          "base_uri": "https://localhost:8080/",
          "height": 35
        },
        "id": "FByJ2CmSVXIO",
        "outputId": "1ead0d37-ca8b-45f7-d6a6-4a8d09c4e70a"
      },
      "execution_count": 11,
      "outputs": [
        {
          "output_type": "execute_result",
          "data": {
            "application/vnd.google.colaboratory.intrinsic+json": {
              "type": "string"
            },
            "text/plain": [
              "'\\n\\n원더\\n\\n'"
            ]
          },
          "metadata": {},
          "execution_count": 11
        }
      ]
    },
    {
      "cell_type": "code",
      "source": [
        "movies[0].text.strip()"
      ],
      "metadata": {
        "colab": {
          "base_uri": "https://localhost:8080/",
          "height": 35
        },
        "id": "YbVz5nxYVZA4",
        "outputId": "3c773809-cff9-4c2d-d091-2062f721e724"
      },
      "execution_count": 12,
      "outputs": [
        {
          "output_type": "execute_result",
          "data": {
            "application/vnd.google.colaboratory.intrinsic+json": {
              "type": "string"
            },
            "text/plain": [
              "'원더'"
            ]
          },
          "metadata": {},
          "execution_count": 12
        }
      ]
    },
    {
      "cell_type": "code",
      "source": [
        "points = soup.select('td.point')"
      ],
      "metadata": {
        "id": "mvmx4ynDVbD0"
      },
      "execution_count": 13,
      "outputs": []
    },
    {
      "cell_type": "code",
      "source": [
        "points[0]"
      ],
      "metadata": {
        "colab": {
          "base_uri": "https://localhost:8080/"
        },
        "id": "fCWv__tFVeVp",
        "outputId": "1295c265-d39a-45f5-d192-827cb2dad041"
      },
      "execution_count": 14,
      "outputs": [
        {
          "output_type": "execute_result",
          "data": {
            "text/plain": [
              "<td class=\"point\">9.53</td>"
            ]
          },
          "metadata": {},
          "execution_count": 14
        }
      ]
    },
    {
      "cell_type": "code",
      "source": [
        "points[0].text"
      ],
      "metadata": {
        "colab": {
          "base_uri": "https://localhost:8080/",
          "height": 35
        },
        "id": "Hj0C23YgVezw",
        "outputId": "3d29b928-4115-455b-a209-ac04ef1b3fa0"
      },
      "execution_count": 15,
      "outputs": [
        {
          "output_type": "execute_result",
          "data": {
            "application/vnd.google.colaboratory.intrinsic+json": {
              "type": "string"
            },
            "text/plain": [
              "'9.53'"
            ]
          },
          "metadata": {},
          "execution_count": 15
        }
      ]
    },
    {
      "cell_type": "code",
      "source": [
        "movielist = []\n",
        "rank  = 1\n",
        "\n",
        "movies = soup.select('td.title')\n",
        "points = soup.select('td.point')\n",
        "\n",
        "for each in range(len(soup.select('td.title'))):\n",
        "  title = movies[each].text.strip()\n",
        "  point = points[each].text.strip()\n",
        "  movielist.append([rank, title, point])\n",
        "  rank += 1\n",
        "  \n",
        "movielist"
      ],
      "metadata": {
        "colab": {
          "base_uri": "https://localhost:8080/"
        },
        "id": "HZmGi4FRVgUJ",
        "outputId": "0abec918-10d3-4d46-b664-d3e9109b8ecd"
      },
      "execution_count": 16,
      "outputs": [
        {
          "output_type": "execute_result",
          "data": {
            "text/plain": [
              "[[1, '원더', '9.53'],\n",
              " [2, '씽2게더', '9.42'],\n",
              " [3, '타오르는 여인의 초상', '9.04'],\n",
              " [4, '스파이더맨: 노 웨이 홈', '8.87'],\n",
              " [5, '마미', '8.68'],\n",
              " [6, '귀향', '8.68'],\n",
              " [7, '라라랜드', '8.62'],\n",
              " [8, '캐롤', '8.61'],\n",
              " [9, '드라이브 마이 카', '8.56'],\n",
              " [10, '나쁜 교육', '8.46'],\n",
              " [11, '그녀에게', '8.46'],\n",
              " [12, '어나더 라운드', '8.26'],\n",
              " [13, '언차티드', '7.99'],\n",
              " [14, '프렌치 디스패치', '7.99'],\n",
              " [15, '킹스맨: 퍼스트 에이전트', '7.98'],\n",
              " [16, '듄', '7.97'],\n",
              " [17, '하우스 오브 구찌', '7.92'],\n",
              " [18, '나일 강의 죽음', '7.87'],\n",
              " [19, '특송', '7.79'],\n",
              " [20, '킹메이커', '7.50'],\n",
              " [21, '단지 세상의 끝', '7.49'],\n",
              " [22, '경관의 피', '7.34'],\n",
              " [23, '해리 포터와 불사조 기사단', '7.03'],\n",
              " [24, '나의 촛불', '6.59'],\n",
              " [25, '웨스트 사이드 스토리', '6.58'],\n",
              " [26, '355', '6.43'],\n",
              " [27, '해적: 도깨비 깃발', '6.22']]"
            ]
          },
          "metadata": {},
          "execution_count": 16
        }
      ]
    },
    {
      "cell_type": "code",
      "source": [
        ""
      ],
      "metadata": {
        "id": "0vC8-BVdVifl"
      },
      "execution_count": null,
      "outputs": []
    }
  ]
}