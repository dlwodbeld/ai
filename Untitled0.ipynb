{
  "nbformat": 4,
  "nbformat_minor": 0,
  "metadata": {
    "colab": {
      "name": "Untitled0.ipynb",
      "provenance": [],
      "authorship_tag": "ABX9TyOyV/4U6bz7G4Qj3W4OIWiR",
      "include_colab_link": true
    },
    "kernelspec": {
      "name": "python3",
      "display_name": "Python 3"
    },
    "language_info": {
      "name": "python"
    }
  },
  "cells": [
    {
      "cell_type": "markdown",
      "metadata": {
        "id": "view-in-github",
        "colab_type": "text"
      },
      "source": [
        "<a href=\"https://colab.research.google.com/github/dlwodbeld/ai/blob/main/Untitled0.ipynb\" target=\"_parent\"><img src=\"https://colab.research.google.com/assets/colab-badge.svg\" alt=\"Open In Colab\"/></a>"
      ]
    },
    {
      "cell_type": "code",
      "execution_count": 4,
      "metadata": {
        "colab": {
          "base_uri": "https://localhost:8080/",
          "height": 35
        },
        "id": "B6NJBebixUND",
        "outputId": "f28eae4c-dc48-4517-8a87-725af0171e4e"
      },
      "outputs": [
        {
          "output_type": "execute_result",
          "data": {
            "application/vnd.google.colaboratory.intrinsic+json": {
              "type": "string"
            },
            "text/plain": [
              "'\\n작성자 : 홍길동\\n작성일 : 2022-01-25\\n버전 : 0.1\\nprint(\"hello\")\\n'"
            ]
          },
          "metadata": {},
          "execution_count": 4
        }
      ],
      "source": [
        "'''\n",
        "작성자 : 홍길동\n",
        "작성일 : 2022-01-25\n",
        "버전 : 0.1\n",
        "print(\"hello\")\n",
        "'''\n",
        "#보통 삼중 따옴표 주석은 여러줄을 주석으로 사용할 때 사용한다.\n",
        "\n",
        "\n"
      ]
    },
    {
      "cell_type": "code",
      "source": [
        "a = 20\n",
        "b = 1500\n",
        "\n",
        "student_avg = 20\n",
        "math_sum = 1500\n",
        "\n"
      ],
      "metadata": {
        "id": "-59hsFYeCWz0"
      },
      "execution_count": null,
      "outputs": []
    },
    {
      "cell_type": "code",
      "source": [
        "name = \"Alice\"\n",
        "age = 25\n",
        "address = '''우편번호12345 서울시 영등포구 여의도동 서울빌딩 501호'''\n",
        "boyfriend=None\n",
        "height=168.5\n",
        "\n",
        "print(\"name=\",name,\"\\n\",\"age=\",age,\"\\n\",\"address=\",address,\"\\n\",\"boyfriend=\",boyfriend,\"\\n\",\"height=\",height)"
      ],
      "metadata": {
        "colab": {
          "base_uri": "https://localhost:8080/"
        },
        "id": "H0zVgqVgCqRF",
        "outputId": "4d89dba7-0f34-445c-db5c-4b5a13a0e415"
      },
      "execution_count": 10,
      "outputs": [
        {
          "output_type": "stream",
          "name": "stdout",
          "text": [
            "name= Alice \n",
            " age= 25 \n",
            " address= 우편번호12345 서울시 영등포구 여의도동 서울빌딩 501호 \n",
            " boyfriend= None \n",
            " height= 168.5\n"
          ]
        }
      ]
    },
    {
      "cell_type": "code",
      "source": [
        "#1.f-string\n",
        "n= input('당신의 이름입력하세요.')\n",
        "m= input('당신의 나이입력하세요.')\n",
        "print(f'당신의 이름은 {n}, 나이는 {m}입니다')\n",
        "#2. 기본\n",
        "print('당신의 이름은 이재문, 나이는 25입니다.')\n",
        "#3. format()\n",
        "print('당신의 이름은 {}, 나이는 {}입니다.'.format(n,m))\n",
        "#4. %연산자\n",
        "print('당신의 이름은 %s, 나이는 %s입니다.' %(n,m))\n"
      ],
      "metadata": {
        "colab": {
          "base_uri": "https://localhost:8080/"
        },
        "id": "QbqU0_Xbf9P4",
        "outputId": "0ba93938-5361-4453-eee5-7754eca7c694"
      },
      "execution_count": 17,
      "outputs": [
        {
          "output_type": "stream",
          "name": "stdout",
          "text": [
            "당신의 이름입력하세요.이재문\n",
            "당신의 나이입력하세요.25\n",
            "당신의 이름은 이재문, 나이는 25입니다\n",
            "당신의 이름은 이재문, 나이는 25입니다.\n",
            "당신의 이름은 이재문, 나이는 25입니다.\n",
            "당신의 이름은 이재문, 나이는 25입니다.\n"
          ]
        }
      ]
    },
    {
      "cell_type": "code",
      "source": [
        "m = int(50000)\n",
        "n = int(input('몇개월 할부인지 입력해주세요.'))\n",
        "a = m/n\n",
        "print(f'{n} 개월동안 매달 내는 금액은 {a} 입니다.')\n",
        "print('{}개월동안 매달 내는 금액은 {} 입니다.'.format(n,a))\n",
        "print('%d개월동안 매달 내는 금액은%d입니다.'%(n,a))\n",
        "print(m,'개월동안 매달 내는 금액은',a,'입니다.')\n"
      ],
      "metadata": {
        "colab": {
          "base_uri": "https://localhost:8080/"
        },
        "id": "34iDmv1X92aV",
        "outputId": "1f411bf0-58be-4495-8238-aba6f3260b5d"
      },
      "execution_count": 41,
      "outputs": [
        {
          "output_type": "stream",
          "name": "stdout",
          "text": [
            "몇개월 할부인지 입력해주세요.5\n",
            "5 개월동안 매달 내는 금액은 10000.0 입니다.\n",
            "5개월동안 매달 내는 금액은 10000.0 입니다.\n",
            "5개월동안 매달 내는 금액은10000입니다.\n"
          ]
        }
      ]
    },
    {
      "cell_type": "markdown",
      "source": [
        ""
      ],
      "metadata": {
        "id": "tlanZgSWI99E"
      }
    },
    {
      "cell_type": "code",
      "source": [
        "n = float(input('실수1:'))\n",
        "m = float(input('실수2:'))\n",
        "a = n+m\n",
        "print(n,'과',m,'의 합계는',a,'입니다.')\n"
      ],
      "metadata": {
        "colab": {
          "base_uri": "https://localhost:8080/"
        },
        "id": "M5z2iXt9FTNe",
        "outputId": "38ea89dc-cd7c-4f2f-d4f2-aa63f4a08b74"
      },
      "execution_count": 42,
      "outputs": [
        {
          "output_type": "stream",
          "name": "stdout",
          "text": [
            "실수1:4.2\n",
            "실수2:2.4\n",
            "4.2 과 2.4 의 합계는 6.6 입니다.\n"
          ]
        }
      ]
    }
  ]
}