{
  "nbformat": 4,
  "nbformat_minor": 0,
  "metadata": {
    "colab": {
      "name": "11HW20220216이재문27.ipynb",
      "provenance": [],
      "authorship_tag": "ABX9TyOa8raN/yYRcuP+AIGuxM12",
      "include_colab_link": true
    },
    "kernelspec": {
      "name": "python3",
      "display_name": "Python 3"
    },
    "language_info": {
      "name": "python"
    }
  },
  "cells": [
    {
      "cell_type": "markdown",
      "metadata": {
        "id": "view-in-github",
        "colab_type": "text"
      },
      "source": [
        "<a href=\"https://colab.research.google.com/github/dlwodbeld/ai/blob/main/11HW20220216%EC%9D%B4%EC%9E%AC%EB%AC%B827.ipynb\" target=\"_parent\"><img src=\"https://colab.research.google.com/assets/colab-badge.svg\" alt=\"Open In Colab\"/></a>"
      ]
    },
    {
      "cell_type": "code",
      "execution_count": 12,
      "metadata": {
        "id": "JOs-kI7BkDrp",
        "colab": {
          "base_uri": "https://localhost:8080/"
        },
        "outputId": "9b205b60-033e-4588-cf94-2592dd297e2e"
      },
      "outputs": [
        {
          "output_type": "execute_result",
          "data": {
            "text/plain": [
              "tuple"
            ]
          },
          "metadata": {},
          "execution_count": 12
        }
      ],
      "source": [
        "#516\n",
        "x = [1,2,3,4]\n",
        "y = tuple(x)\n",
        "type(y)\n",
        "#Tuple"
      ]
    },
    {
      "cell_type": "code",
      "source": [
        "#517\n",
        "x = [1,2,3,4]\n",
        "y = tuple(x)\n",
        "z = list(y)\n",
        "type(z)\n",
        "#List"
      ],
      "metadata": {
        "colab": {
          "base_uri": "https://localhost:8080/"
        },
        "id": "l2wpgMLjlCaZ",
        "outputId": "eb842bf9-5047-4291-bb8a-b23966410ea1"
      },
      "execution_count": 11,
      "outputs": [
        {
          "output_type": "execute_result",
          "data": {
            "text/plain": [
              "list"
            ]
          },
          "metadata": {},
          "execution_count": 11
        }
      ]
    },
    {
      "cell_type": "code",
      "source": [
        "#518\n",
        "x = 'Python'\n",
        "y = list(x)\n",
        "print(type(y))\n",
        "#List"
      ],
      "metadata": {
        "colab": {
          "base_uri": "https://localhost:8080/"
        },
        "id": "mApxif7TlaVD",
        "outputId": "5d2cae29-e774-42d2-e42b-753bf5fa92a0"
      },
      "execution_count": 10,
      "outputs": [
        {
          "output_type": "stream",
          "name": "stdout",
          "text": [
            "<class 'list'>\n"
          ]
        }
      ]
    },
    {
      "cell_type": "code",
      "source": [
        "#519\n",
        "x = 'Python'\n",
        "y = tuple(x)\n",
        "print(type(y))\n",
        "#Tuple"
      ],
      "metadata": {
        "colab": {
          "base_uri": "https://localhost:8080/"
        },
        "id": "UWbkOi4elpBo",
        "outputId": "27b7ec0f-3942-4ee9-effc-9f0e63cd478a"
      },
      "execution_count": 9,
      "outputs": [
        {
          "output_type": "stream",
          "name": "stdout",
          "text": [
            "<class 'tuple'>\n"
          ]
        }
      ]
    },
    {
      "cell_type": "code",
      "source": [
        "#520\n",
        "x = ('Python')\n",
        "print(x)\n",
        "#Python"
      ],
      "metadata": {
        "colab": {
          "base_uri": "https://localhost:8080/"
        },
        "id": "dmJLPjlal4sc",
        "outputId": "e1f1a705-eae9-40b3-ef58-098464cf68c4"
      },
      "execution_count": 14,
      "outputs": [
        {
          "output_type": "stream",
          "name": "stdout",
          "text": [
            "Python\n"
          ]
        }
      ]
    },
    {
      "cell_type": "code",
      "source": [
        "#521\n",
        "x = ('Python',)\n",
        "print(x)\n",
        "#('Python',)"
      ],
      "metadata": {
        "colab": {
          "base_uri": "https://localhost:8080/"
        },
        "id": "sZp5e1g-mMKX",
        "outputId": "246584d8-39bd-4ad2-b31f-2d0ff429fbb1"
      },
      "execution_count": 16,
      "outputs": [
        {
          "output_type": "stream",
          "name": "stdout",
          "text": [
            "('Python',)\n"
          ]
        }
      ]
    },
    {
      "cell_type": "code",
      "source": [
        "#522\n",
        "x = [0,2,4,6]\n",
        "print(tuple(x))\n",
        "#(0,2,4,6)"
      ],
      "metadata": {
        "colab": {
          "base_uri": "https://localhost:8080/"
        },
        "id": "TFwij7vomZJW",
        "outputId": "a95ba727-44ce-411f-df81-fc39e85f315a"
      },
      "execution_count": 17,
      "outputs": [
        {
          "output_type": "stream",
          "name": "stdout",
          "text": [
            "(0, 2, 4, 6)\n"
          ]
        }
      ]
    },
    {
      "cell_type": "code",
      "source": [
        "#523\n",
        "x = [0,2,4,6]\n",
        "print(list(x))\n",
        "#[0,2,4,6]"
      ],
      "metadata": {
        "colab": {
          "base_uri": "https://localhost:8080/"
        },
        "id": "JiRGBpWQmiG9",
        "outputId": "c53494d1-1a47-430e-faf9-115db877501e"
      },
      "execution_count": 18,
      "outputs": [
        {
          "output_type": "stream",
          "name": "stdout",
          "text": [
            "[0, 2, 4, 6]\n"
          ]
        }
      ]
    },
    {
      "cell_type": "code",
      "source": [
        "#524\n",
        "x = 'Python'\n",
        "print(list(x))\n",
        "#['P', 'y', 't', 'h', 'o', 'n']"
      ],
      "metadata": {
        "colab": {
          "base_uri": "https://localhost:8080/"
        },
        "id": "iBiUTy9ymyN6",
        "outputId": "0ea39f1c-4335-404f-f72c-db3750086d10"
      },
      "execution_count": 20,
      "outputs": [
        {
          "output_type": "stream",
          "name": "stdout",
          "text": [
            "['P', 'y', 't', 'h', 'o', 'n']\n"
          ]
        }
      ]
    },
    {
      "cell_type": "code",
      "source": [
        "#525\n",
        "x = 'Python'\n",
        "print(tuple(x))\n",
        "#('P', 'y', 't', 'h', 'o', 'n')"
      ],
      "metadata": {
        "colab": {
          "base_uri": "https://localhost:8080/"
        },
        "id": "w_Fl6XCmm6M6",
        "outputId": "c1ec5152-52b7-477a-efc4-7f9e138c34c0"
      },
      "execution_count": 21,
      "outputs": [
        {
          "output_type": "stream",
          "name": "stdout",
          "text": [
            "('P', 'y', 't', 'h', 'o', 'n')\n"
          ]
        }
      ]
    },
    {
      "cell_type": "code",
      "source": [
        "#526\n",
        "x = [4,5,7,8,9]\n",
        "y = x\n",
        "y[1] = 6\n",
        "print(y)\n",
        "#[4,6,7,8,9]"
      ],
      "metadata": {
        "colab": {
          "base_uri": "https://localhost:8080/"
        },
        "id": "cgEL7kARnDXm",
        "outputId": "8e1e91cc-6c11-4aa9-f552-edff033d2782"
      },
      "execution_count": 24,
      "outputs": [
        {
          "output_type": "stream",
          "name": "stdout",
          "text": [
            "[4, 6, 7, 8, 9]\n"
          ]
        }
      ]
    },
    {
      "cell_type": "code",
      "source": [
        "#527\n",
        "x = [4,5,7,8,9]\n",
        "y = x\n",
        "y[1] = 6\n",
        "print(x)\n",
        "#[4,6,7,8,9]"
      ],
      "metadata": {
        "colab": {
          "base_uri": "https://localhost:8080/"
        },
        "id": "SRH1n419nlTS",
        "outputId": "f609b778-32a8-4e88-b4ab-ec5fef0b5b69"
      },
      "execution_count": 25,
      "outputs": [
        {
          "output_type": "stream",
          "name": "stdout",
          "text": [
            "[4, 6, 7, 8, 9]\n"
          ]
        }
      ]
    },
    {
      "cell_type": "code",
      "source": [
        "#528\n",
        "def abc(z):\n",
        "  z.appand(44)\n",
        "  x = [7,8,9]\n",
        "  abc(x)  \n",
        "print(x)\n",
        "#[7,8,9]"
      ],
      "metadata": {
        "colab": {
          "base_uri": "https://localhost:8080/"
        },
        "id": "SrkW3-nEn0kA",
        "outputId": "01123d07-9838-4a9b-af2d-412c19830f77"
      },
      "execution_count": 36,
      "outputs": [
        {
          "output_type": "stream",
          "name": "stdout",
          "text": [
            "[7, 8, 9]\n"
          ]
        }
      ]
    },
    {
      "cell_type": "code",
      "source": [
        "#529\n",
        "import copy\n",
        "x = [5,4,3,2,1]\n",
        "y = copy.copy(x)\n",
        "x.append(6)\n",
        "print(y[-1])\n",
        "#1"
      ],
      "metadata": {
        "colab": {
          "base_uri": "https://localhost:8080/"
        },
        "id": "Ken5uU5qpNUY",
        "outputId": "1c49bb75-eaa1-4b9b-93f0-b56bdb13cd86"
      },
      "execution_count": 37,
      "outputs": [
        {
          "output_type": "stream",
          "name": "stdout",
          "text": [
            "1\n"
          ]
        }
      ]
    },
    {
      "cell_type": "code",
      "source": [
        "#530\n",
        "import copy\n",
        "x = [5,4,3,2,1]\n",
        "y = copy.copy(x)\n",
        "x.append(6)\n",
        "print(y[2])\n",
        "#3"
      ],
      "metadata": {
        "colab": {
          "base_uri": "https://localhost:8080/"
        },
        "id": "UrMx5YWcpdOz",
        "outputId": "2e219a78-a577-47fd-eb81-7eca88c77c50"
      },
      "execution_count": 40,
      "outputs": [
        {
          "output_type": "stream",
          "name": "stdout",
          "text": [
            "3\n"
          ]
        }
      ]
    },
    {
      "cell_type": "code",
      "source": [
        "#531\n",
        "import copy\n",
        "x = [5,4,3,2,1]\n",
        "y = [7,8,9]\n",
        "z = [x,y]\n",
        "a = copy.copy(z)\n",
        "x[2] = 6\n",
        "print(a)\n",
        "#[[5, 4, 6, 2, 1], [7, 8, 9]]"
      ],
      "metadata": {
        "colab": {
          "base_uri": "https://localhost:8080/"
        },
        "id": "XuwK75sSp0WB",
        "outputId": "96bf6d6c-b16f-4bbc-bbc4-1195cd4123be"
      },
      "execution_count": 41,
      "outputs": [
        {
          "output_type": "stream",
          "name": "stdout",
          "text": [
            "[[5, 4, 6, 2, 1], [7, 8, 9]]\n"
          ]
        }
      ]
    },
    {
      "cell_type": "code",
      "source": [
        "#532\n",
        "import copy\n",
        "x = [5,4,3,2,1]\n",
        "y = [7,8,9]\n",
        "z = [x,y]\n",
        "a = copy.deepcopy(z)\n",
        "x[2] = 6\n",
        "print(a)\n",
        "#[[5, 4, 3, 2, 1], [7, 8, 9]]"
      ],
      "metadata": {
        "colab": {
          "base_uri": "https://localhost:8080/"
        },
        "id": "EjdPZgWOqXxv",
        "outputId": "32e771dd-6e1b-4593-9e6b-4afe92fd9932"
      },
      "execution_count": 42,
      "outputs": [
        {
          "output_type": "stream",
          "name": "stdout",
          "text": [
            "[[5, 4, 3, 2, 1], [7, 8, 9]]\n"
          ]
        }
      ]
    },
    {
      "cell_type": "code",
      "source": [
        "#533\n",
        "x = {'day' : 'Sunday', 'week':10}\n",
        "print(x['year'])\n",
        "#KeyError"
      ],
      "metadata": {
        "colab": {
          "base_uri": "https://localhost:8080/",
          "height": 226
        },
        "id": "P87AaRAyqtrV",
        "outputId": "30166544-c148-4a37-a11e-a4798305d841"
      },
      "execution_count": 44,
      "outputs": [
        {
          "output_type": "error",
          "ename": "KeyError",
          "evalue": "ignored",
          "traceback": [
            "\u001b[0;31m---------------------------------------------------------------------------\u001b[0m",
            "\u001b[0;31mKeyError\u001b[0m                                  Traceback (most recent call last)",
            "\u001b[0;32m<ipython-input-44-08fc44ce695f>\u001b[0m in \u001b[0;36m<module>\u001b[0;34m()\u001b[0m\n\u001b[1;32m      1\u001b[0m \u001b[0;31m#533\u001b[0m\u001b[0;34m\u001b[0m\u001b[0;34m\u001b[0m\u001b[0;34m\u001b[0m\u001b[0m\n\u001b[1;32m      2\u001b[0m \u001b[0mx\u001b[0m \u001b[0;34m=\u001b[0m \u001b[0;34m{\u001b[0m\u001b[0;34m'day'\u001b[0m \u001b[0;34m:\u001b[0m \u001b[0;34m'Sunday'\u001b[0m\u001b[0;34m,\u001b[0m \u001b[0;34m'week'\u001b[0m\u001b[0;34m:\u001b[0m\u001b[0;36m10\u001b[0m\u001b[0;34m}\u001b[0m\u001b[0;34m\u001b[0m\u001b[0;34m\u001b[0m\u001b[0m\n\u001b[0;32m----> 3\u001b[0;31m \u001b[0mprint\u001b[0m\u001b[0;34m(\u001b[0m\u001b[0mx\u001b[0m\u001b[0;34m[\u001b[0m\u001b[0;34m'year'\u001b[0m\u001b[0;34m]\u001b[0m\u001b[0;34m)\u001b[0m\u001b[0;34m\u001b[0m\u001b[0;34m\u001b[0m\u001b[0m\n\u001b[0m\u001b[1;32m      4\u001b[0m \u001b[0;31m#KeyError\u001b[0m\u001b[0;34m\u001b[0m\u001b[0;34m\u001b[0m\u001b[0;34m\u001b[0m\u001b[0m\n",
            "\u001b[0;31mKeyError\u001b[0m: 'year'"
          ]
        }
      ]
    },
    {
      "cell_type": "code",
      "source": [
        "#534\n",
        "x = {'day':'Sunday','week':10}\n",
        "for i in x.values():\n",
        "  print(i,end='')\n",
        "#Sunday10"
      ],
      "metadata": {
        "colab": {
          "base_uri": "https://localhost:8080/"
        },
        "id": "W7MmIISHrMFv",
        "outputId": "d2e1409b-b735-459a-ec3a-c47f3c4a68eb"
      },
      "execution_count": 45,
      "outputs": [
        {
          "output_type": "stream",
          "name": "stdout",
          "text": [
            "Sunday10"
          ]
        }
      ]
    },
    {
      "cell_type": "code",
      "source": [
        "#535\n",
        "x = {'day':'Sunday','week':10}\n",
        "for i in x:\n",
        "  print(i,end='')\n",
        "#dayweek"
      ],
      "metadata": {
        "colab": {
          "base_uri": "https://localhost:8080/"
        },
        "id": "nRZha1XGrbon",
        "outputId": "ebbd929f-e449-4455-9c26-c28e5bdc07be"
      },
      "execution_count": 47,
      "outputs": [
        {
          "output_type": "stream",
          "name": "stdout",
          "text": [
            "dayweek"
          ]
        }
      ]
    },
    {
      "cell_type": "code",
      "source": [
        "# Algorithm Homework(#30)\n",
        "\n",
        "#숫자를 입력하면 정수인지,소수인지 구별하고 숫자가 아닌것이 입력될경우 'math error'가 출력되게 해라.\n",
        "while(True):\n",
        "  try:\n",
        "    num = int(input('수를 입력하세요 : '))\n",
        "    break;\n",
        "  except:\n",
        "    print('math error')\n",
        "count = 0\n",
        "for a in range(1,num+1):\n",
        "  if num == a:\n",
        "    print(a)\n",
        "    count += 1\n",
        "  elif num % a == 0:\n",
        "    print(a,end=', ')\n",
        "    count += 1\n",
        "if count == 2:\n",
        "  print(num,'은 소수입니다.')\n",
        "else:\n",
        "  print(num,'은 정수입니다.')"
      ],
      "metadata": {
        "colab": {
          "base_uri": "https://localhost:8080/"
        },
        "id": "VFJVy0dlrvLC",
        "outputId": "445b9a62-124f-4532-cfc0-a8595b22cff0"
      },
      "execution_count": 57,
      "outputs": [
        {
          "output_type": "stream",
          "name": "stdout",
          "text": [
            "수를 입력하세요 : ㅇ\n",
            "math error\n",
            "수를 입력하세요 : 4\n",
            "1, 2, 4\n",
            "4 은 정수입니다.\n"
          ]
        }
      ]
    }
  ]
}